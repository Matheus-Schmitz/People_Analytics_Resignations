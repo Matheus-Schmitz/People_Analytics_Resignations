{
 "cells": [
  {
   "cell_type": "markdown",
   "id": "spread-recipient",
   "metadata": {},
   "source": [
    "# People Analytics: Evaluating Factors Predictive of Resignation"
   ]
  },
  {
   "cell_type": "markdown",
   "id": "cordless-dollar",
   "metadata": {},
   "source": [
    "<p>Matheus Schmitz</p>\n",
    "<p><a href=\"https://www.linkedin.com/in/matheusschmitz/\">LinkedIn</a></p>\n",
    "<p><a href=\"https://matheus-schmitz.github.io/\">Github Portfolio</a></p>"
   ]
  },
  {
   "cell_type": "markdown",
   "id": "monetary-vitamin",
   "metadata": {},
   "source": [
    "## Problem Statement"
   ]
  },
  {
   "cell_type": "markdown",
   "id": "therapeutic-scholar",
   "metadata": {},
   "source": [
    "I've obtained a dataset from IBM containing various work-related features about a large number of employees, including a target feature ``Attrition``, which assigns a employee to one of three classes {Current Employee, Terminated, Voluntary Resignation}.\n",
    "\n",
    "Although a target feature does exist, my goal here is not to develop a Machine Learning model, but rather to perform People Analytics, using all the available features to extract insights which can then be used by the company's HR (Human Resources) department. \n",
    "\n",
    "The dataset countains both information which was generated internal employee datasets and employee surveys on specific work-related manners, and it also contains certain information which related to the employees work history. The latter class is of especial interest to me, as those information could be used during the hiring process, to select employee's less likely to quit (Voluntary Resignation) or to be fired (Terminated).\n",
    "\n",
    "The bulk of the work in this project will consist of Exploratory Analysis to extract insights, and Feature Selection, to uncover which are the most relevant attributes when it comes to predicting turnover."
   ]
  },
  {
   "cell_type": "markdown",
   "id": "later-model",
   "metadata": {},
   "source": [
    "**Dataset Source:**\n",
    "https://developer.ibm.com/patterns/data-science-life-cycle-in-action-to-solve-employee-attrition-problem/"
   ]
  },
  {
   "cell_type": "markdown",
   "id": "timely-campbell",
   "metadata": {},
   "source": [
    "**Data Encoding**\n",
    "\n",
    "**#** | **Education** | **EnvironmentSatisfaction** | **JobInvolvement** | **JobSatisfaction** | **PerformanceRating** | **RelationshipSatisfaction** | **WorkLifeBalance** |\n",
    ":---:|:---:|:---:|:---:|:---:|:---:|:---:|:---:|\n",
    "1 | Below College | Low | Low | Low | Low | Low | Bad | \n",
    "2 | College | Medium | Medium | Medium | Good | Medium | Good |\n",
    "3 | Bachelor | High | High | High | Excellent | High | Better |\n",
    "4 | Master | Very High | Very High | Very High | Outstanding | Very High | Best |\n",
    "5 | Doctor |"
   ]
  },
  {
   "cell_type": "markdown",
   "id": "brutal-chinese",
   "metadata": {},
   "source": [
    "## Define Directory"
   ]
  },
  {
   "cell_type": "code",
   "execution_count": 1,
   "id": "commercial-malaysia",
   "metadata": {},
   "outputs": [
    {
     "data": {
      "text/html": [
       "'C:/Portfolio/People_Analytics_Resignations'"
      ],
      "text/latex": [
       "'C:/Portfolio/People\\_Analytics\\_Resignations'"
      ],
      "text/markdown": [
       "'C:/Portfolio/People_Analytics_Resignations'"
      ],
      "text/plain": [
       "[1] \"C:/Portfolio/People_Analytics_Resignations\""
      ]
     },
     "metadata": {},
     "output_type": "display_data"
    }
   ],
   "source": [
    "setwd(\"C:/Portfolio/People_Analytics_Resignations\")\n",
    "getwd()"
   ]
  },
  {
   "cell_type": "markdown",
   "id": "optimum-ghana",
   "metadata": {},
   "source": [
    "## Packages"
   ]
  },
  {
   "cell_type": "code",
   "execution_count": 2,
   "id": "express-drink",
   "metadata": {},
   "outputs": [
    {
     "name": "stderr",
     "output_type": "stream",
     "text": [
      "Warning message:\n",
      "\"package 'caret' was built under R version 3.6.3\"Loading required package: lattice\n",
      "Loading required package: ggplot2\n",
      "Registered S3 methods overwritten by 'ggplot2':\n",
      "  method         from \n",
      "  [.quosures     rlang\n",
      "  c.quosures     rlang\n",
      "  print.quosures rlang\n",
      "Warning message:\n",
      "\"package 'gridExtra' was built under R version 3.6.3\"Warning message:\n",
      "\"package 'dplyr' was built under R version 3.6.3\"\n",
      "Attaching package: 'dplyr'\n",
      "\n",
      "The following object is masked from 'package:gridExtra':\n",
      "\n",
      "    combine\n",
      "\n",
      "The following objects are masked from 'package:stats':\n",
      "\n",
      "    filter, lag\n",
      "\n",
      "The following objects are masked from 'package:base':\n",
      "\n",
      "    intersect, setdiff, setequal, union\n",
      "\n",
      "Warning message:\n",
      "\"package 'tidyr' was built under R version 3.6.3\"\n",
      "Attaching package: 'data.table'\n",
      "\n",
      "The following objects are masked from 'package:dplyr':\n",
      "\n",
      "    between, first, last\n",
      "\n",
      "Warning message:\n",
      "\"package 'car' was built under R version 3.6.3\"Loading required package: carData\n",
      "Warning message:\n",
      "\"package 'carData' was built under R version 3.6.3\"\n",
      "Attaching package: 'car'\n",
      "\n",
      "The following object is masked from 'package:dplyr':\n",
      "\n",
      "    recode\n",
      "\n",
      "Warning message:\n",
      "\"package 'caTools' was built under R version 3.6.3\"Warning message:\n",
      "\"package 'corrplot' was built under R version 3.6.3\"corrplot 0.84 loaded\n",
      "Warning message:\n",
      "\"package 'rpart.plot' was built under R version 3.6.3\""
     ]
    }
   ],
   "source": [
    "# Imports\n",
    "library(caret)\n",
    "library(ggplot2)\n",
    "library(gridExtra)\n",
    "library(dplyr)\n",
    "library(tidyr)\n",
    "library(data.table)\n",
    "library(car)\n",
    "library(caTools)\n",
    "library(corrplot)\n",
    "library(rpart)\n",
    "library(rpart.plot)\n",
    "\n",
    "# Set a smaller plot size\n",
    "options(repr.plot.width=8, repr.plot.height=4)\n",
    "\n",
    "# Align all titles to the middle of the plot\n",
    "theme_update(plot.title = element_text(hjust = 0.5))"
   ]
  },
  {
   "cell_type": "markdown",
   "id": "breathing-andorra",
   "metadata": {},
   "source": [
    "## Dataset"
   ]
  },
  {
   "cell_type": "code",
   "execution_count": 3,
   "id": "cellular-harrison",
   "metadata": {},
   "outputs": [
    {
     "data": {
      "text/html": [
       "<ol class=list-inline>\n",
       "\t<li>23058</li>\n",
       "\t<li>30</li>\n",
       "</ol>\n"
      ],
      "text/latex": [
       "\\begin{enumerate*}\n",
       "\\item 23058\n",
       "\\item 30\n",
       "\\end{enumerate*}\n"
      ],
      "text/markdown": [
       "1. 23058\n",
       "2. 30\n",
       "\n",
       "\n"
      ],
      "text/plain": [
       "[1] 23058    30"
      ]
     },
     "metadata": {},
     "output_type": "display_data"
    }
   ],
   "source": [
    "# Load dataset from CSV file\n",
    "data_hr <- fread('data/dataset.csv')\n",
    "dim(data_hr)"
   ]
  },
  {
   "cell_type": "code",
   "execution_count": 4,
   "id": "passive-finance",
   "metadata": {},
   "outputs": [
    {
     "data": {
      "text/html": [
       "<table>\n",
       "<thead><tr><th scope=col>Age</th><th scope=col>Attrition</th><th scope=col>BusinessTravel</th><th scope=col>Department</th><th scope=col>DistanceFromHome</th><th scope=col>Education</th><th scope=col>EducationField</th><th scope=col>EnvironmentSatisfaction</th><th scope=col>Gender</th><th scope=col>JobInvolvement</th><th scope=col>...</th><th scope=col>StockOptionLevel</th><th scope=col>TotalWorkingYears</th><th scope=col>TrainingTimesLastYear</th><th scope=col>WorkLifeBalance</th><th scope=col>YearsAtCompany</th><th scope=col>YearsInCurrentRole</th><th scope=col>YearsSinceLastPromotion</th><th scope=col>YearsWithCurrManager</th><th scope=col>Employee Source</th><th scope=col>AgeStartedWorking</th></tr></thead>\n",
       "<tbody>\n",
       "\t<tr><td>41                   </td><td>Voluntary Resignation</td><td>Travel_Rarely        </td><td>Sales                </td><td>1                    </td><td>2                    </td><td>Life Sciences        </td><td>2                    </td><td>Female               </td><td>3                    </td><td>...                  </td><td>0                    </td><td>8                    </td><td>0                    </td><td>1                    </td><td>6                    </td><td>4                    </td><td>0                    </td><td>5                    </td><td>Referral             </td><td>33                   </td></tr>\n",
       "\t<tr><td>37                   </td><td>Voluntary Resignation</td><td>Travel_Rarely        </td><td>Human Resources      </td><td>6                    </td><td>4                    </td><td>Human Resources      </td><td>1                    </td><td>Female               </td><td>3                    </td><td>...                  </td><td>0                    </td><td>8                    </td><td>0                    </td><td>1                    </td><td>6                    </td><td>4                    </td><td>0                    </td><td>5                    </td><td>Referral             </td><td>29                   </td></tr>\n",
       "\t<tr><td>41                   </td><td>Voluntary Resignation</td><td>Travel_Rarely        </td><td>Sales                </td><td>1                    </td><td>2                    </td><td>Life Sciences        </td><td>2                    </td><td>Female               </td><td>3                    </td><td>...                  </td><td>0                    </td><td>8                    </td><td>0                    </td><td>1                    </td><td>6                    </td><td>4                    </td><td>0                    </td><td>5                    </td><td>Referral             </td><td>33                   </td></tr>\n",
       "\t<tr><td>37                   </td><td>Voluntary Resignation</td><td>Travel_Rarely        </td><td>Human Resources      </td><td>6                    </td><td>4                    </td><td>Marketing            </td><td>1                    </td><td>Female               </td><td>3                    </td><td>...                  </td><td>0                    </td><td>8                    </td><td>0                    </td><td>1                    </td><td>6                    </td><td>4                    </td><td>0                    </td><td>5                    </td><td>Referral             </td><td>29                   </td></tr>\n",
       "\t<tr><td>37                   </td><td>Voluntary Resignation</td><td>Travel_Rarely        </td><td>Human Resources      </td><td>6                    </td><td>4                    </td><td>Human Resources      </td><td>1                    </td><td>Female               </td><td>3                    </td><td>...                  </td><td>0                    </td><td>8                    </td><td>0                    </td><td>1                    </td><td>6                    </td><td>4                    </td><td>0                    </td><td>5                    </td><td>Referral             </td><td>29                   </td></tr>\n",
       "\t<tr><td>37                   </td><td>Voluntary Resignation</td><td>Travel_Rarely        </td><td>Human Resources      </td><td>6                    </td><td>4                    </td><td>Marketing            </td><td>1                    </td><td>Female               </td><td>3                    </td><td>...                  </td><td>0                    </td><td>8                    </td><td>0                    </td><td>1                    </td><td>6                    </td><td>4                    </td><td>0                    </td><td>5                    </td><td>Referral             </td><td>29                   </td></tr>\n",
       "</tbody>\n",
       "</table>\n"
      ],
      "text/latex": [
       "\\begin{tabular}{r|llllllllllllllllllllllllllllll}\n",
       " Age & Attrition & BusinessTravel & Department & DistanceFromHome & Education & EducationField & EnvironmentSatisfaction & Gender & JobInvolvement & ... & StockOptionLevel & TotalWorkingYears & TrainingTimesLastYear & WorkLifeBalance & YearsAtCompany & YearsInCurrentRole & YearsSinceLastPromotion & YearsWithCurrManager & Employee Source & AgeStartedWorking\\\\\n",
       "\\hline\n",
       "\t 41                    & Voluntary Resignation & Travel\\_Rarely       & Sales                 & 1                     & 2                     & Life Sciences         & 2                     & Female                & 3                     & ...                   & 0                     & 8                     & 0                     & 1                     & 6                     & 4                     & 0                     & 5                     & Referral              & 33                   \\\\\n",
       "\t 37                    & Voluntary Resignation & Travel\\_Rarely       & Human Resources       & 6                     & 4                     & Human Resources       & 1                     & Female                & 3                     & ...                   & 0                     & 8                     & 0                     & 1                     & 6                     & 4                     & 0                     & 5                     & Referral              & 29                   \\\\\n",
       "\t 41                    & Voluntary Resignation & Travel\\_Rarely       & Sales                 & 1                     & 2                     & Life Sciences         & 2                     & Female                & 3                     & ...                   & 0                     & 8                     & 0                     & 1                     & 6                     & 4                     & 0                     & 5                     & Referral              & 33                   \\\\\n",
       "\t 37                    & Voluntary Resignation & Travel\\_Rarely       & Human Resources       & 6                     & 4                     & Marketing             & 1                     & Female                & 3                     & ...                   & 0                     & 8                     & 0                     & 1                     & 6                     & 4                     & 0                     & 5                     & Referral              & 29                   \\\\\n",
       "\t 37                    & Voluntary Resignation & Travel\\_Rarely       & Human Resources       & 6                     & 4                     & Human Resources       & 1                     & Female                & 3                     & ...                   & 0                     & 8                     & 0                     & 1                     & 6                     & 4                     & 0                     & 5                     & Referral              & 29                   \\\\\n",
       "\t 37                    & Voluntary Resignation & Travel\\_Rarely       & Human Resources       & 6                     & 4                     & Marketing             & 1                     & Female                & 3                     & ...                   & 0                     & 8                     & 0                     & 1                     & 6                     & 4                     & 0                     & 5                     & Referral              & 29                   \\\\\n",
       "\\end{tabular}\n"
      ],
      "text/markdown": [
       "\n",
       "| Age | Attrition | BusinessTravel | Department | DistanceFromHome | Education | EducationField | EnvironmentSatisfaction | Gender | JobInvolvement | ... | StockOptionLevel | TotalWorkingYears | TrainingTimesLastYear | WorkLifeBalance | YearsAtCompany | YearsInCurrentRole | YearsSinceLastPromotion | YearsWithCurrManager | Employee Source | AgeStartedWorking |\n",
       "|---|---|---|---|---|---|---|---|---|---|---|---|---|---|---|---|---|---|---|---|---|\n",
       "| 41                    | Voluntary Resignation | Travel_Rarely         | Sales                 | 1                     | 2                     | Life Sciences         | 2                     | Female                | 3                     | ...                   | 0                     | 8                     | 0                     | 1                     | 6                     | 4                     | 0                     | 5                     | Referral              | 33                    |\n",
       "| 37                    | Voluntary Resignation | Travel_Rarely         | Human Resources       | 6                     | 4                     | Human Resources       | 1                     | Female                | 3                     | ...                   | 0                     | 8                     | 0                     | 1                     | 6                     | 4                     | 0                     | 5                     | Referral              | 29                    |\n",
       "| 41                    | Voluntary Resignation | Travel_Rarely         | Sales                 | 1                     | 2                     | Life Sciences         | 2                     | Female                | 3                     | ...                   | 0                     | 8                     | 0                     | 1                     | 6                     | 4                     | 0                     | 5                     | Referral              | 33                    |\n",
       "| 37                    | Voluntary Resignation | Travel_Rarely         | Human Resources       | 6                     | 4                     | Marketing             | 1                     | Female                | 3                     | ...                   | 0                     | 8                     | 0                     | 1                     | 6                     | 4                     | 0                     | 5                     | Referral              | 29                    |\n",
       "| 37                    | Voluntary Resignation | Travel_Rarely         | Human Resources       | 6                     | 4                     | Human Resources       | 1                     | Female                | 3                     | ...                   | 0                     | 8                     | 0                     | 1                     | 6                     | 4                     | 0                     | 5                     | Referral              | 29                    |\n",
       "| 37                    | Voluntary Resignation | Travel_Rarely         | Human Resources       | 6                     | 4                     | Marketing             | 1                     | Female                | 3                     | ...                   | 0                     | 8                     | 0                     | 1                     | 6                     | 4                     | 0                     | 5                     | Referral              | 29                    |\n",
       "\n"
      ],
      "text/plain": [
       "  Age Attrition             BusinessTravel Department      DistanceFromHome\n",
       "1 41  Voluntary Resignation Travel_Rarely  Sales           1               \n",
       "2 37  Voluntary Resignation Travel_Rarely  Human Resources 6               \n",
       "3 41  Voluntary Resignation Travel_Rarely  Sales           1               \n",
       "4 37  Voluntary Resignation Travel_Rarely  Human Resources 6               \n",
       "5 37  Voluntary Resignation Travel_Rarely  Human Resources 6               \n",
       "6 37  Voluntary Resignation Travel_Rarely  Human Resources 6               \n",
       "  Education EducationField  EnvironmentSatisfaction Gender JobInvolvement ...\n",
       "1 2         Life Sciences   2                       Female 3              ...\n",
       "2 4         Human Resources 1                       Female 3              ...\n",
       "3 2         Life Sciences   2                       Female 3              ...\n",
       "4 4         Marketing       1                       Female 3              ...\n",
       "5 4         Human Resources 1                       Female 3              ...\n",
       "6 4         Marketing       1                       Female 3              ...\n",
       "  StockOptionLevel TotalWorkingYears TrainingTimesLastYear WorkLifeBalance\n",
       "1 0                8                 0                     1              \n",
       "2 0                8                 0                     1              \n",
       "3 0                8                 0                     1              \n",
       "4 0                8                 0                     1              \n",
       "5 0                8                 0                     1              \n",
       "6 0                8                 0                     1              \n",
       "  YearsAtCompany YearsInCurrentRole YearsSinceLastPromotion\n",
       "1 6              4                  0                      \n",
       "2 6              4                  0                      \n",
       "3 6              4                  0                      \n",
       "4 6              4                  0                      \n",
       "5 6              4                  0                      \n",
       "6 6              4                  0                      \n",
       "  YearsWithCurrManager Employee Source AgeStartedWorking\n",
       "1 5                    Referral        33               \n",
       "2 5                    Referral        29               \n",
       "3 5                    Referral        33               \n",
       "4 5                    Referral        29               \n",
       "5 5                    Referral        29               \n",
       "6 5                    Referral        29               "
      ]
     },
     "metadata": {},
     "output_type": "display_data"
    }
   ],
   "source": [
    "head(data_hr)"
   ]
  },
  {
   "cell_type": "code",
   "execution_count": 5,
   "id": "rubber-religious",
   "metadata": {},
   "outputs": [
    {
     "name": "stdout",
     "output_type": "stream",
     "text": [
      "Classes 'data.table' and 'data.frame':\t23058 obs. of  30 variables:\n",
      " $ Age                     : int  41 37 41 37 37 37 41 41 41 41 ...\n",
      " $ Attrition               : chr  \"Voluntary Resignation\" \"Voluntary Resignation\" \"Voluntary Resignation\" \"Voluntary Resignation\" ...\n",
      " $ BusinessTravel          : chr  \"Travel_Rarely\" \"Travel_Rarely\" \"Travel_Rarely\" \"Travel_Rarely\" ...\n",
      " $ Department              : chr  \"Sales\" \"Human Resources\" \"Sales\" \"Human Resources\" ...\n",
      " $ DistanceFromHome        : int  1 6 1 6 6 6 1 1 1 1 ...\n",
      " $ Education               : int  2 4 2 4 4 4 2 2 2 2 ...\n",
      " $ EducationField          : chr  \"Life Sciences\" \"Human Resources\" \"Life Sciences\" \"Marketing\" ...\n",
      " $ EnvironmentSatisfaction : int  2 1 2 1 1 1 2 2 2 4 ...\n",
      " $ Gender                  : chr  \"Female\" \"Female\" \"Female\" \"Female\" ...\n",
      " $ JobInvolvement          : int  3 3 3 3 3 3 3 3 3 3 ...\n",
      " $ JobLevel                : int  2 2 2 2 2 2 2 2 2 4 ...\n",
      " $ JobRole                 : chr  \"Sales Executive\" \"Sales Executive\" \"Sales Executive\" \"Sales Executive\" ...\n",
      " $ JobSatisfaction         : int  4 4 4 4 4 4 4 4 4 3 ...\n",
      " $ MaritalStatus           : chr  \"Single\" \"Single\" \"Single\" \"Single\" ...\n",
      " $ MonthlyIncome           : int  5993 5993 5993 5993 5993 5993 5993 5993 5993 14756 ...\n",
      " $ NumCompaniesWorked      : int  8 8 4 5 8 5 8 4 8 2 ...\n",
      " $ OverTime                : chr  \"Yes\" \"Yes\" \"Yes\" \"Yes\" ...\n",
      " $ PercentSalaryHike       : int  11 11 11 11 11 11 11 11 11 14 ...\n",
      " $ PerformanceRating       : int  3 4 3 3 3 3 3 3 3 3 ...\n",
      " $ RelationshipSatisfaction: int  1 1 1 1 1 1 1 1 1 3 ...\n",
      " $ StockOptionLevel        : int  0 0 0 0 0 0 0 0 0 3 ...\n",
      " $ TotalWorkingYears       : int  8 8 8 8 8 8 8 8 8 21 ...\n",
      " $ TrainingTimesLastYear   : int  0 0 0 0 0 0 0 0 0 2 ...\n",
      " $ WorkLifeBalance         : int  1 1 1 1 1 1 1 1 1 3 ...\n",
      " $ YearsAtCompany          : int  6 6 6 6 6 6 6 6 6 5 ...\n",
      " $ YearsInCurrentRole      : int  4 4 4 4 4 4 4 4 4 0 ...\n",
      " $ YearsSinceLastPromotion : int  0 0 0 0 0 0 0 0 0 0 ...\n",
      " $ YearsWithCurrManager    : int  5 5 5 5 5 5 5 5 5 2 ...\n",
      " $ Employee Source         : chr  \"Referral\" \"Referral\" \"Referral\" \"Referral\" ...\n",
      " $ AgeStartedWorking       : int  33 29 33 29 29 29 33 33 33 20 ...\n",
      " - attr(*, \".internal.selfref\")=<externalptr> \n"
     ]
    }
   ],
   "source": [
    "# Check variable types\n",
    "str(data_hr)"
   ]
  },
  {
   "cell_type": "code",
   "execution_count": 6,
   "id": "artificial-norfolk",
   "metadata": {},
   "outputs": [
    {
     "data": {
      "text/plain": [
       "      Age         Attrition         BusinessTravel      Department       \n",
       " Min.   :18.00   Length:23058       Length:23058       Length:23058      \n",
       " 1st Qu.:30.00   Class :character   Class :character   Class :character  \n",
       " Median :36.00   Mode  :character   Mode  :character   Mode  :character  \n",
       " Mean   :37.04                                                           \n",
       " 3rd Qu.:43.00                                                           \n",
       " Max.   :60.00                                                           \n",
       " DistanceFromHome   Education     EducationField     EnvironmentSatisfaction\n",
       " Min.   : 1.000   Min.   :1.000   Length:23058       Min.   :1.00           \n",
       " 1st Qu.: 2.000   1st Qu.:2.000   Class :character   1st Qu.:2.00           \n",
       " Median : 7.000   Median :3.000   Mode  :character   Median :3.00           \n",
       " Mean   : 9.215   Mean   :2.915                      Mean   :2.72           \n",
       " 3rd Qu.:14.000   3rd Qu.:4.000                      3rd Qu.:4.00           \n",
       " Max.   :29.000   Max.   :5.000                      Max.   :4.00           \n",
       "    Gender          JobInvolvement    JobLevel       JobRole         \n",
       " Length:23058       Min.   :1.00   Min.   :1.000   Length:23058      \n",
       " Class :character   1st Qu.:2.00   1st Qu.:1.000   Class :character  \n",
       " Mode  :character   Median :3.00   Median :2.000   Mode  :character  \n",
       "                    Mean   :2.73   Mean   :2.044                     \n",
       "                    3rd Qu.:3.00   3rd Qu.:3.000                     \n",
       "                    Max.   :4.00   Max.   :5.000                     \n",
       " JobSatisfaction MaritalStatus      MonthlyIncome   NumCompaniesWorked\n",
       " Min.   :1.000   Length:23058       Min.   : 1009   Min.   :0.000     \n",
       " 1st Qu.:2.000   Class :character   1st Qu.: 2900   1st Qu.:1.000     \n",
       " Median :3.000   Mode  :character   Median : 4898   Median :2.000     \n",
       " Mean   :2.725                      Mean   : 6416   Mean   :2.691     \n",
       " 3rd Qu.:4.000                      3rd Qu.: 8120   3rd Qu.:4.000     \n",
       " Max.   :4.000                      Max.   :19999   Max.   :9.000     \n",
       "   OverTime         PercentSalaryHike PerformanceRating\n",
       " Length:23058       Min.   :11.00     Min.   :3.000    \n",
       " Class :character   1st Qu.:12.00     1st Qu.:3.000    \n",
       " Mode  :character   Median :14.00     Median :3.000    \n",
       "                    Mean   :15.22     Mean   :3.155    \n",
       "                    3rd Qu.:18.00     3rd Qu.:3.000    \n",
       "                    Max.   :25.00     Max.   :4.000    \n",
       " RelationshipSatisfaction StockOptionLevel TotalWorkingYears\n",
       " Min.   :1.000            Min.   :0.0000   Min.   : 0.00    \n",
       " 1st Qu.:2.000            1st Qu.:0.0000   1st Qu.: 6.00    \n",
       " Median :3.000            Median :1.0000   Median :10.00    \n",
       " Mean   :2.713            Mean   :0.7944   Mean   :11.07    \n",
       " 3rd Qu.:4.000            3rd Qu.:1.0000   3rd Qu.:15.00    \n",
       " Max.   :4.000            Max.   :3.0000   Max.   :40.00    \n",
       " TrainingTimesLastYear WorkLifeBalance YearsAtCompany  YearsInCurrentRole\n",
       " Min.   :0.000         Min.   :1.000   Min.   : 0.00   Min.   : 0.000    \n",
       " 1st Qu.:2.000         1st Qu.:2.000   1st Qu.: 3.00   1st Qu.: 2.000    \n",
       " Median :3.000         Median :3.000   Median : 5.00   Median : 3.000    \n",
       " Mean   :2.804         Mean   :2.762   Mean   : 6.91   Mean   : 4.201    \n",
       " 3rd Qu.:3.000         3rd Qu.:3.000   3rd Qu.: 9.00   3rd Qu.: 7.000    \n",
       " Max.   :6.000         Max.   :4.000   Max.   :40.00   Max.   :18.000    \n",
       " YearsSinceLastPromotion YearsWithCurrManager Employee Source   \n",
       " Min.   : 0.000          Min.   : 0.000       Length:23058      \n",
       " 1st Qu.: 0.000          1st Qu.: 2.000       Class :character  \n",
       " Median : 1.000          Median : 3.000       Mode  :character  \n",
       " Mean   : 2.164          Mean   : 4.091                         \n",
       " 3rd Qu.: 3.000          3rd Qu.: 7.000                         \n",
       " Max.   :15.000          Max.   :17.000                         \n",
       " AgeStartedWorking\n",
       " Min.   : 0.00    \n",
       " 1st Qu.:20.00    \n",
       " Median :25.00    \n",
       " Mean   :25.96    \n",
       " 3rd Qu.:31.00    \n",
       " Max.   :60.00    "
      ]
     },
     "metadata": {},
     "output_type": "display_data"
    }
   ],
   "source": [
    "# Basic statistics on the variables\n",
    "summary(data_hr)"
   ]
  },
  {
   "cell_type": "markdown",
   "id": "requested-upgrade",
   "metadata": {},
   "source": [
    "## Data Cleaning"
   ]
  },
  {
   "cell_type": "code",
   "execution_count": 7,
   "id": "ancient-wallace",
   "metadata": {},
   "outputs": [],
   "source": [
    "# Converting categorical variables to factor\n",
    "data_hr$Attrition                <- as.factor(data_hr$Attrition)\n",
    "data_hr$BusinessTravel           <- as.factor(data_hr$BusinessTravel)\n",
    "data_hr$Department               <- as.factor(data_hr$Department)\n",
    "data_hr$Education                <- as.factor(data_hr$Education)\n",
    "data_hr$EducationField           <- as.factor(data_hr$EducationField)\n",
    "data_hr$'Employee Source'        <- as.factor(data_hr$'Employee Source')\n",
    "data_hr$EnvironmentSatisfaction  <- as.factor(data_hr$EnvironmentSatisfaction)\n",
    "data_hr$Gender                   <- as.factor(data_hr$Gender)\n",
    "data_hr$JobInvolvement           <- as.factor(data_hr$JobInvolvement)\n",
    "data_hr$JobLevel                 <- as.factor(data_hr$JobLevel)\n",
    "data_hr$JobRole                  <- as.factor(data_hr$JobRole)\n",
    "data_hr$JobSatisfaction          <- as.factor(data_hr$JobSatisfaction)\n",
    "data_hr$MaritalStatus            <- as.factor(data_hr$MaritalStatus)\n",
    "data_hr$OverTime                 <- as.factor(data_hr$OverTime)\n",
    "data_hr$PerformanceRating        <- as.factor(data_hr$PerformanceRating)\n",
    "data_hr$RelationshipSatisfaction <- as.factor(data_hr$RelationshipSatisfaction)\n",
    "data_hr$StockOptionLevel         <- as.factor(data_hr$StockOptionLevel)\n",
    "data_hr$WorkLifeBalance          <- as.factor(data_hr$WorkLifeBalance)"
   ]
  },
  {
   "cell_type": "code",
   "execution_count": 8,
   "id": "occasional-shock",
   "metadata": {},
   "outputs": [],
   "source": [
    "# Converting numerical variables to integer\n",
    "data_hr$DistanceFromHome  <- as.integer(data_hr$DistanceFromHome)\n",
    "data_hr$MonthlyIncome     <- as.integer(data_hr$MonthlyIncome)\n",
    "data_hr$PercentSalaryHike <- as.integer(data_hr$PercentSalaryHike)"
   ]
  },
  {
   "cell_type": "code",
   "execution_count": 9,
   "id": "roman-acting",
   "metadata": {},
   "outputs": [],
   "source": [
    "# Drop any factor levels with a count of 0\n",
    "data_hr <- droplevels(data_hr)"
   ]
  },
  {
   "cell_type": "code",
   "execution_count": 10,
   "id": "alone-crystal",
   "metadata": {},
   "outputs": [
    {
     "name": "stdout",
     "output_type": "stream",
     "text": [
      "Classes 'data.table' and 'data.frame':\t23058 obs. of  30 variables:\n",
      " $ Age                     : int  41 37 41 37 37 37 41 41 41 41 ...\n",
      " $ Attrition               : Factor w/ 3 levels \"Current employee\",..: 3 3 3 3 3 3 3 3 3 3 ...\n",
      " $ BusinessTravel          : Factor w/ 3 levels \"Non-Travel\",\"Travel_Frequently\",..: 3 3 3 3 3 3 3 3 3 3 ...\n",
      " $ Department              : Factor w/ 3 levels \"Human Resources\",..: 3 1 3 1 1 1 3 3 3 3 ...\n",
      " $ DistanceFromHome        : int  1 6 1 6 6 6 1 1 1 1 ...\n",
      " $ Education               : Factor w/ 5 levels \"1\",\"2\",\"3\",\"4\",..: 2 4 2 4 4 4 2 2 2 2 ...\n",
      " $ EducationField          : Factor w/ 6 levels \"Human Resources\",..: 2 1 2 3 1 3 2 2 2 2 ...\n",
      " $ EnvironmentSatisfaction : Factor w/ 4 levels \"1\",\"2\",\"3\",\"4\": 2 1 2 1 1 1 2 2 2 4 ...\n",
      " $ Gender                  : Factor w/ 2 levels \"Female\",\"Male\": 1 1 1 1 1 1 1 1 1 1 ...\n",
      " $ JobInvolvement          : Factor w/ 4 levels \"1\",\"2\",\"3\",\"4\": 3 3 3 3 3 3 3 3 3 3 ...\n",
      " $ JobLevel                : Factor w/ 5 levels \"1\",\"2\",\"3\",\"4\",..: 2 2 2 2 2 2 2 2 2 4 ...\n",
      " $ JobRole                 : Factor w/ 9 levels \"Healthcare Representative\",..: 8 8 8 8 8 8 8 8 8 4 ...\n",
      " $ JobSatisfaction         : Factor w/ 4 levels \"1\",\"2\",\"3\",\"4\": 4 4 4 4 4 4 4 4 4 3 ...\n",
      " $ MaritalStatus           : Factor w/ 3 levels \"Divorced\",\"Married\",..: 3 3 3 3 3 3 3 3 3 1 ...\n",
      " $ MonthlyIncome           : int  5993 5993 5993 5993 5993 5993 5993 5993 5993 14756 ...\n",
      " $ NumCompaniesWorked      : int  8 8 4 5 8 5 8 4 8 2 ...\n",
      " $ OverTime                : Factor w/ 2 levels \"No\",\"Yes\": 2 2 2 2 2 2 2 2 2 2 ...\n",
      " $ PercentSalaryHike       : int  11 11 11 11 11 11 11 11 11 14 ...\n",
      " $ PerformanceRating       : Factor w/ 2 levels \"3\",\"4\": 1 2 1 1 1 1 1 1 1 1 ...\n",
      " $ RelationshipSatisfaction: Factor w/ 4 levels \"1\",\"2\",\"3\",\"4\": 1 1 1 1 1 1 1 1 1 3 ...\n",
      " $ StockOptionLevel        : Factor w/ 4 levels \"0\",\"1\",\"2\",\"3\": 1 1 1 1 1 1 1 1 1 4 ...\n",
      " $ TotalWorkingYears       : int  8 8 8 8 8 8 8 8 8 21 ...\n",
      " $ TrainingTimesLastYear   : int  0 0 0 0 0 0 0 0 0 2 ...\n",
      " $ WorkLifeBalance         : Factor w/ 4 levels \"1\",\"2\",\"3\",\"4\": 1 1 1 1 1 1 1 1 1 3 ...\n",
      " $ YearsAtCompany          : int  6 6 6 6 6 6 6 6 6 5 ...\n",
      " $ YearsInCurrentRole      : int  4 4 4 4 4 4 4 4 4 0 ...\n",
      " $ YearsSinceLastPromotion : int  0 0 0 0 0 0 0 0 0 0 ...\n",
      " $ YearsWithCurrManager    : int  5 5 5 5 5 5 5 5 5 2 ...\n",
      " $ Employee Source         : Factor w/ 9 levels \"Adzuna\",\"Company Website\",..: 8 8 8 8 8 8 8 8 8 2 ...\n",
      " $ AgeStartedWorking       : int  33 29 33 29 29 29 33 33 33 20 ...\n",
      " - attr(*, \".internal.selfref\")=<externalptr> \n"
     ]
    }
   ],
   "source": [
    "# Check variable types\n",
    "str(data_hr)"
   ]
  },
  {
   "cell_type": "code",
   "execution_count": 11,
   "id": "ecological-think",
   "metadata": {},
   "outputs": [],
   "source": [
    "# Fix the space in the `Employee Source` column name\n",
    "names(data_hr)[names(data_hr) == \"Employee Source\"] <- \"EmployeeSource\""
   ]
  },
  {
   "cell_type": "markdown",
   "id": "intended-minute",
   "metadata": {},
   "source": [
    "## Feature Engineering"
   ]
  },
  {
   "cell_type": "code",
   "execution_count": 12,
   "id": "divine-civilization",
   "metadata": {
    "scrolled": true
   },
   "outputs": [
    {
     "data": {
      "text/html": [
       "<ol class=list-inline>\n",
       "\t<li>23058</li>\n",
       "\t<li>31</li>\n",
       "</ol>\n"
      ],
      "text/latex": [
       "\\begin{enumerate*}\n",
       "\\item 23058\n",
       "\\item 31\n",
       "\\end{enumerate*}\n"
      ],
      "text/markdown": [
       "1. 23058\n",
       "2. 31\n",
       "\n",
       "\n"
      ],
      "text/plain": [
       "[1] 23058    31"
      ]
     },
     "metadata": {},
     "output_type": "display_data"
    }
   ],
   "source": [
    "# Creating a column with prior years of experience to better visualize an employee's experience profile\n",
    "data_hr$PriorYearsOfExperience <- data_hr$TotalWorkingYears - data_hr$YearsAtCompany\n",
    "dim(data_hr)"
   ]
  },
  {
   "cell_type": "code",
   "execution_count": 13,
   "id": "committed-dressing",
   "metadata": {},
   "outputs": [
    {
     "data": {
      "text/plain": [
       "   Min. 1st Qu.  Median    Mean 3rd Qu.    Max. \n",
       "  0.000   0.000   2.000   4.165   5.000  40.000 "
      ]
     },
     "metadata": {},
     "output_type": "display_data"
    }
   ],
   "source": [
    "# Checking if I didn't break anything during feature engineering\n",
    "summary(data_hr$PriorYearsOfExperience)"
   ]
  },
  {
   "cell_type": "markdown",
   "id": "divine-electricity",
   "metadata": {},
   "source": [
    "> A person's stability in a company (job tenure) is a mesure of the time an employee has been employed by it's current employer. An employee's job tenure history (how long the person stayed at each company) is highly important and often times is taken into account by recruiters when hiring a new employee."
   ]
  },
  {
   "cell_type": "code",
   "execution_count": 14,
   "id": "possible-japanese",
   "metadata": {},
   "outputs": [
    {
     "data": {
      "text/html": [
       "<ol class=list-inline>\n",
       "\t<li>23058</li>\n",
       "\t<li>32</li>\n",
       "</ol>\n"
      ],
      "text/latex": [
       "\\begin{enumerate*}\n",
       "\\item 23058\n",
       "\\item 32\n",
       "\\end{enumerate*}\n"
      ],
      "text/markdown": [
       "1. 23058\n",
       "2. 32\n",
       "\n",
       "\n"
      ],
      "text/plain": [
       "[1] 23058    32"
      ]
     },
     "metadata": {},
     "output_type": "display_data"
    }
   ],
   "source": [
    "# Create a new feature (column) with each employee's average job tenure\n",
    "data_hr$AverageTenure <- data_hr$PriorYearsOfExperience / data_hr$NumCompaniesWorked\n",
    "dim(data_hr)"
   ]
  },
  {
   "cell_type": "code",
   "execution_count": 15,
   "id": "engaging-appeal",
   "metadata": {},
   "outputs": [
    {
     "data": {
      "text/plain": [
       "   Min. 1st Qu.  Median    Mean 3rd Qu.    Max.    NA's \n",
       "      0       0       1     Inf       4     Inf     372 "
      ]
     },
     "metadata": {},
     "output_type": "display_data"
    }
   ],
   "source": [
    "# Checking if I didn't break anything during feature engineering\n",
    "summary(data_hr$AverageTenure)"
   ]
  },
  {
   "cell_type": "markdown",
   "id": "fitted-nutrition",
   "metadata": {},
   "source": [
    "> Seems like in this case I did break something. Checking back at the quartiles for the NumCompaniesWorked variable, I can see that some employees have a 0 in there, which means some rows got divided by zero, which resulted in those ``infs``. I'll fix that by simply imputting 0 in place of the infs."
   ]
  },
  {
   "cell_type": "code",
   "execution_count": 16,
   "id": "sweet-school",
   "metadata": {},
   "outputs": [
    {
     "data": {
      "text/plain": [
       "   Min. 1st Qu.  Median    Mean 3rd Qu.    Max. \n",
       " 0.0000  0.0000  0.3333  1.7725  1.5000 40.0000 "
      ]
     },
     "metadata": {},
     "output_type": "display_data"
    }
   ],
   "source": [
    "# Fixing inf values on $AverageTenure\n",
    "data_hr$AverageTenure[!is.finite(data_hr$AverageTenure)] <- 0\n",
    "summary(data_hr$AverageTenure)"
   ]
  },
  {
   "cell_type": "code",
   "execution_count": 17,
   "id": "bottom-father",
   "metadata": {},
   "outputs": [
    {
     "data": {
      "text/html": [
       "<ol class=list-inline>\n",
       "\t<li>22971</li>\n",
       "\t<li>32</li>\n",
       "</ol>\n"
      ],
      "text/latex": [
       "\\begin{enumerate*}\n",
       "\\item 22971\n",
       "\\item 32\n",
       "\\end{enumerate*}\n"
      ],
      "text/markdown": [
       "1. 22971\n",
       "2. 32\n",
       "\n",
       "\n"
      ],
      "text/plain": [
       "[1] 22971    32"
      ]
     },
     "metadata": {},
     "output_type": "display_data"
    }
   ],
   "source": [
    "# Create a filtered dataset that does not include terminations.\n",
    "# I'm doing this because for this project I'm not as much looking into building ML models\n",
    "# Instead I'm interested in which factors lead people to resign, and the datapoints for terminations won't help with that\n",
    "# More likely than not they might just prove to mess with the analysis, so let's se apart a dataset without terminations\n",
    "data_hr_1 <- data_hr[data_hr$Attrition != 'Termination']\n",
    "data_hr_1 <- droplevels(data_hr_1)\n",
    "dim(data_hr_1)"
   ]
  },
  {
   "cell_type": "markdown",
   "id": "suited-service",
   "metadata": {},
   "source": [
    "## Exploratory Analysis"
   ]
  },
  {
   "cell_type": "code",
   "execution_count": 18,
   "id": "satisfied-tractor",
   "metadata": {},
   "outputs": [
    {
     "data": {
      "image/png": "[encoded data removed]",
      "text/plain": [
       "plot without title"
      ]
     },
     "metadata": {},
     "output_type": "display_data"
    }
   ],
   "source": [
    "# Job Role\n",
    "ggplot(data_hr) + \n",
    "    geom_bar(aes(x = JobRole)) + \n",
    "    theme(axis.text.x = element_text(angle = 30, vjust = 0.7))"
   ]
  },
  {
   "cell_type": "code",
   "execution_count": 19,
   "id": "extended-scanning",
   "metadata": {},
   "outputs": [
    {
     "data": {
      "image/png": "[encoded data removed]",
      "text/plain": [
       "plot without title"
      ]
     },
     "metadata": {},
     "output_type": "display_data"
    }
   ],
   "source": [
    "# Employee Source\n",
    "ggplot(data_hr) + \n",
    "    geom_bar(aes(x = EmployeeSource)) + \n",
    "    theme(axis.text.x = element_text(angle = 30, vjust = 0.7))"
   ]
  },
  {
   "cell_type": "code",
   "execution_count": 20,
   "id": "surprising-personal",
   "metadata": {},
   "outputs": [
    {
     "data": {
      "image/png": "[encoded data removed]",
      "text/plain": [
       "plot without title"
      ]
     },
     "metadata": {},
     "output_type": "display_data"
    }
   ],
   "source": [
    "# Education\n",
    "# 1 is the lowest \n",
    "ggplot(data_hr) + \n",
    "    geom_bar(aes(x = Education)) + \n",
    "    facet_grid(~EducationField)"
   ]
  },
  {
   "cell_type": "code",
   "execution_count": 21,
   "id": "extra-corporation",
   "metadata": {},
   "outputs": [
    {
     "data": {
      "image/png": "[encoded data removed]",
      "text/plain": [
       "plot without title"
      ]
     },
     "metadata": {},
     "output_type": "display_data"
    }
   ],
   "source": [
    "# For the datapoints with few categories a Multiplot Grid can be used\n",
    "p1 <- ggplot(data_hr) + geom_bar(aes(x = Gender))\n",
    "p2 <- ggplot(data_hr) + geom_bar(aes(x = Attrition))\n",
    "p3 <- ggplot(data_hr) + geom_bar(aes(x = Department))\n",
    "p4 <- ggplot(data_hr) + geom_bar(aes(x = BusinessTravel))\n",
    "\n",
    "# Organize the grid\n",
    "grid.arrange(p1, p2, p3, p4, nrow=2, ncol=2)"
   ]
  },
  {
   "cell_type": "code",
   "execution_count": 24,
   "id": "characteristic-biology",
   "metadata": {},
   "outputs": [
    {
     "data": {
      "image/png": "[encoded data removed]",
      "text/plain": [
       "plot without title"
      ]
     },
     "metadata": {},
     "output_type": "display_data"
    }
   ],
   "source": [
    "# Probability Density Functions (PDFs) for Time-Based Data\n",
    "p.TotalWorkingYears       <- ggplot(data_hr) + geom_density(aes(TotalWorkingYears), fill=\"gray\", alpha=0.5)\n",
    "p.YearsAtCompany          <- ggplot(data_hr) + geom_density(aes(YearsAtCompany), fill=\"gray\", alpha=0.5)\n",
    "p.YearsSinceLastPromotion <- ggplot(data_hr) + geom_density(aes(YearsSinceLastPromotion), fill=\"gray\", alpha=0.5)\n",
    "p.YearsWithCurrManager    <- ggplot(data_hr) + geom_density(aes(YearsWithCurrManager), fill=\"gray\", alpha=0.5)\n",
    "p.YearsInCurrentRole      <- ggplot(data_hr) + geom_density(aes(YearsInCurrentRole), fill=\"gray\", alpha=0.5)\n",
    "p.PriorYearsOfExperience  <- ggplot(data_hr) + geom_density(aes(PriorYearsOfExperience), fill=\"gray\", alpha=0.5)\n",
    "\n",
    "# Organize the grid\n",
    "grid.arrange(p.TotalWorkingYears, \n",
    "             p.YearsAtCompany, \n",
    "             p.YearsSinceLastPromotion, \n",
    "             p.YearsWithCurrManager, \n",
    "             p.YearsInCurrentRole, \n",
    "             p.PriorYearsOfExperience, \n",
    "             nrow = 2, \n",
    "             ncol = 3,\n",
    "             top = \"Probability Density Functions (PDFs) for Time-Based Data\")"
   ]
  },
  {
   "cell_type": "markdown",
   "id": "functional-giant",
   "metadata": {},
   "source": [
    "### Prior Work Experience & Age"
   ]
  },
  {
   "cell_type": "code",
   "execution_count": 103,
   "id": "attended-accuracy",
   "metadata": {},
   "outputs": [
    {
     "name": "stdout",
     "output_type": "stream",
     "text": [
      "Share of employees with less than 1 year of experience:  32.46596 % \n",
      "Share of employees with less than 3 years of experience:  58.28346 % \n",
      "Share of employees with less than 5 years of experience:  70.85177 % \n",
      "Share of employees with less than 7 years of experience:  79.52121 % \n",
      "Share of employees with less than 10 years of experience:  85.89644 % \n"
     ]
    }
   ],
   "source": [
    "# Share of employees with X prior years of experience\n",
    "less1  <- length(which(data_hr$PriorYearsOfExperience < 1)) / length(data_hr$PriorYearsOfExperience)  \n",
    "less3  <- length(which(data_hr$PriorYearsOfExperience < 3)) / length(data_hr$PriorYearsOfExperience)   \n",
    "less5  <- length(which(data_hr$PriorYearsOfExperience < 5)) / length(data_hr$PriorYearsOfExperience)   \n",
    "less7  <- length(which(data_hr$PriorYearsOfExperience < 7)) / length(data_hr$PriorYearsOfExperience)   \n",
    "less10 <- length(which(data_hr$PriorYearsOfExperience < 10)) / length(data_hr$PriorYearsOfExperience)  \n",
    "\n",
    "cat('Share of employees with less than 1 year of experience: ', less1*100,'%', '\\n')\n",
    "cat('Share of employees with less than 3 years of experience: ', less3*100,'%', '\\n')\n",
    "cat('Share of employees with less than 5 years of experience: ', less5*100,'%', '\\n')\n",
    "cat('Share of employees with less than 7 years of experience: ', less7*100,'%', '\\n')\n",
    "cat('Share of employees with less than 10 years of experience: ', less10*100,'%', '\\n')"
   ]
  },
  {
   "cell_type": "markdown",
   "id": "organic-dollar",
   "metadata": {},
   "source": [
    "> 58% of the employees have under 3 years of work experience before joining IBM. \n",
    "> \n",
    "> Possible problems: young workforce, underdeveloped skillsets, less mature work mentality."
   ]
  },
  {
   "cell_type": "code",
   "execution_count": 26,
   "id": "nutritional-album",
   "metadata": {},
   "outputs": [
    {
     "data": {
      "image/png": "[encoded data removed]",
      "text/plain": [
       "plot without title"
      ]
     },
     "metadata": {},
     "output_type": "display_data"
    }
   ],
   "source": [
    "# Checking how young the workforce really is\n",
    "ggplot(data_hr) + \n",
    "    geom_density(aes(x = Age), fill=\"gray\", alpha=0.5) +\n",
    "    ggtitle(\"Employee Age :: Probability Density Function (PDF)\")"
   ]
  },
  {
   "cell_type": "code",
   "execution_count": 27,
   "id": "unexpected-aruba",
   "metadata": {},
   "outputs": [
    {
     "name": "stdout",
     "output_type": "stream",
     "text": [
      "Share of employees under 30 years old:  21.65409 % \n"
     ]
    }
   ],
   "source": [
    "# Share under 30\n",
    "under30 = length(which(data_hr$Age < 30)) / length(data_hr$Age)\n",
    "\n",
    "cat('Share of employees under 30 years old: ', under30*100,'%', '\\n')"
   ]
  },
  {
   "cell_type": "markdown",
   "id": "right-naples",
   "metadata": {},
   "source": [
    "> Only 22% of the employees are under 30 years old. Turns out the employee base isn't as young as I had assumed!"
   ]
  },
  {
   "cell_type": "markdown",
   "id": "touched-bulgaria",
   "metadata": {},
   "source": [
    "### Education"
   ]
  },
  {
   "cell_type": "code",
   "execution_count": 28,
   "id": "saved-college",
   "metadata": {},
   "outputs": [
    {
     "data": {
      "text/html": [
       "<dl class=dl-horizontal>\n",
       "\t<dt>1</dt>\n",
       "\t\t<dd>2659</dd>\n",
       "\t<dt>2</dt>\n",
       "\t\t<dd>4436</dd>\n",
       "\t<dt>3</dt>\n",
       "\t\t<dd>8930</dd>\n",
       "\t<dt>4</dt>\n",
       "\t\t<dd>6279</dd>\n",
       "\t<dt>5</dt>\n",
       "\t\t<dd>754</dd>\n",
       "</dl>\n"
      ],
      "text/latex": [
       "\\begin{description*}\n",
       "\\item[1] 2659\n",
       "\\item[2] 4436\n",
       "\\item[3] 8930\n",
       "\\item[4] 6279\n",
       "\\item[5] 754\n",
       "\\end{description*}\n"
      ],
      "text/markdown": [
       "1\n",
       ":   26592\n",
       ":   44363\n",
       ":   89304\n",
       ":   62795\n",
       ":   754\n",
       "\n"
      ],
      "text/plain": [
       "   1    2    3    4    5 \n",
       "2659 4436 8930 6279  754 "
      ]
     },
     "metadata": {},
     "output_type": "display_data"
    }
   ],
   "source": [
    "# Education\n",
    "summary(data_hr$Education)"
   ]
  },
  {
   "cell_type": "markdown",
   "id": "federal-adrian",
   "metadata": {},
   "source": [
    "**Data Encoding**\n",
    "\n",
    "**#** | **Education** | **EnvironmentSatisfaction** | **JobInvolvement** | **JobSatisfaction** | **PerformanceRating** | **RelationshipSatisfaction** | **WorkLifeBalance** |\n",
    ":---:|:---:|:---:|:---:|:---:|:---:|:---:|:---:|\n",
    "1 | Below College | Low | Low | Low | Low | Low | Bad | \n",
    "2 | College | Medium | Medium | Medium | Good | Medium | Good |\n",
    "3 | Bachelor | High | High | High | Excellent | High | Better |\n",
    "4 | Master | Very High | Very High | Very High | Outstanding | Very High | Best |\n",
    "5 | Doctor |"
   ]
  },
  {
   "cell_type": "code",
   "execution_count": 29,
   "id": "permanent-amazon",
   "metadata": {},
   "outputs": [
    {
     "data": {
      "image/png": "[encoded data removed]",
      "text/plain": [
       "plot without title"
      ]
     },
     "metadata": {},
     "output_type": "display_data"
    }
   ],
   "source": [
    "# Education \n",
    "ggplot(data_hr, aes(x = Education)) + \n",
    "    geom_bar(aes(y = (..count..)/sum(..count..))) +\n",
    "    scale_y_continuous(labels=scales::percent) + \n",
    "    ylab(\"Relative Frequencies\") +\n",
    "    ggtitle(\"Share of Employees per Education Bracket\")"
   ]
  },
  {
   "cell_type": "markdown",
   "id": "characteristic-upper",
   "metadata": {},
   "source": [
    "> IBM's workforce is well educated, with ~39% of employees having a bachelors degree, a further 27% having a masters degree and a further 3% having a doctors degree. That's about 69% of the workforce having university education.\n",
    ">\n",
    "> Especially interesting are the 30% of the workforce that posses some sort of advanced degree, thaty ought to be considerably above average in comparison to other companies."
   ]
  },
  {
   "cell_type": "markdown",
   "id": "sufficient-azerbaijan",
   "metadata": {},
   "source": [
    "### Monthly Income x Job Satisfaction"
   ]
  },
  {
   "cell_type": "code",
   "execution_count": 30,
   "id": "assured-voluntary",
   "metadata": {},
   "outputs": [
    {
     "data": {
      "image/png": "[encoded data removed]",
      "text/plain": [
       "plot without title"
      ]
     },
     "metadata": {},
     "output_type": "display_data"
    }
   ],
   "source": [
    "# Boxplot with the monthly income distribution for each of the job satisfaction levels\n",
    "ggplot(data = subset(data_hr, !is.na(JobSatisfaction)), aes(JobSatisfaction, MonthlyIncome)) + \n",
    "    geom_boxplot() +\n",
    "    ggtitle(\"Boxplot of Monthly Income per Job Satisfaction Bracket\")"
   ]
  },
  {
   "cell_type": "markdown",
   "id": "legitimate-shirt",
   "metadata": {},
   "source": [
    "> Monthly income appears to have no effect on job satisfaction."
   ]
  },
  {
   "cell_type": "markdown",
   "id": "hybrid-pharmacy",
   "metadata": {},
   "source": [
    "### Years at Company"
   ]
  },
  {
   "cell_type": "code",
   "execution_count": 31,
   "id": "joint-resident",
   "metadata": {},
   "outputs": [
    {
     "name": "stdout",
     "output_type": "stream",
     "text": [
      "Correlation between YearsAtCompany and TotalWorkingYears:        0.624816 \n",
      "Correlation between YearsAtCompany and YearsInCurrentRole:       0.7670497 \n",
      "Correlation between YearsAtCompany and YearsSinceLastPromotion:  0.6236737 \n",
      "Correlation between YearsAtCompany and YearsWithCurrManager:     0.7728072 \n",
      "Correlation between YearsAtCompany and MonthlyIncome:            0.4981578 \n"
     ]
    }
   ],
   "source": [
    "# How well do years at company correlate with other metrics?\n",
    "yc1 <- cor(data_hr$YearsAtCompany, data_hr$TotalWorkingYears,       use = \"complete.obs\")\n",
    "yc2 <- cor(data_hr$YearsAtCompany, data_hr$YearsInCurrentRole,      use = \"complete.obs\")\n",
    "yc3 <- cor(data_hr$YearsAtCompany, data_hr$YearsSinceLastPromotion, use = \"complete.obs\")\n",
    "yc4 <- cor(data_hr$YearsAtCompany, data_hr$YearsWithCurrManager,    use = \"complete.obs\")\n",
    "yc5 <- cor(data_hr$YearsAtCompany, data_hr$MonthlyIncome,           use = \"complete.obs\") \n",
    "\n",
    "cat('Correlation between YearsAtCompany and TotalWorkingYears:       ', yc1, '\\n')\n",
    "cat('Correlation between YearsAtCompany and YearsInCurrentRole:      ', yc2, '\\n')\n",
    "cat('Correlation between YearsAtCompany and YearsSinceLastPromotion: ', yc3, '\\n')\n",
    "cat('Correlation between YearsAtCompany and YearsWithCurrManager:    ', yc4, '\\n')\n",
    "cat('Correlation between YearsAtCompany and MonthlyIncome:           ', yc5, '\\n')"
   ]
  },
  {
   "cell_type": "markdown",
   "id": "advised-mason",
   "metadata": {},
   "source": [
    "> Not much surprise here - Analysing from the realistic perspective that people aren't going to be promoted every year, and that most often even with promotions people keep their roles and managers."
   ]
  },
  {
   "cell_type": "markdown",
   "id": "further-royal",
   "metadata": {},
   "source": [
    "### Monthly Income"
   ]
  },
  {
   "cell_type": "code",
   "execution_count": 154,
   "id": "dental-drain",
   "metadata": {},
   "outputs": [
    {
     "data": {
      "image/png": "[encoded data removed]",
      "text/plain": [
       "plot without title"
      ]
     },
     "metadata": {},
     "output_type": "display_data"
    }
   ],
   "source": [
    "# Scatterplot: YearsAtCompany x MonthlyIncome\n",
    "# Scatterplot: TotalWorkingYears x MonthlyIncome\n",
    "grid.arrange(ggplot(data_hr) + geom_point(aes(YearsAtCompany, MonthlyIncome)),\n",
    "             ggplot(data_hr) + geom_point(aes(TotalWorkingYears, MonthlyIncome)),  \n",
    "             nrow = 1, ncol = 2)"
   ]
  },
  {
   "cell_type": "markdown",
   "id": "younger-sierra",
   "metadata": {},
   "source": [
    "> The fact the TotalWorkingYears is a better predictor of MonthlyIncome than YearsAtCompany just tells me that overall experience and expertise are more valuable (higher paid) than company loyalty. "
   ]
  },
  {
   "cell_type": "markdown",
   "id": "alternative-bailey",
   "metadata": {},
   "source": [
    "### Monthly Income x Work Life Balance"
   ]
  },
  {
   "cell_type": "code",
   "execution_count": 32,
   "id": "pointed-tiger",
   "metadata": {},
   "outputs": [
    {
     "data": {
      "image/png": "[encoded data removed]",
      "text/plain": [
       "plot without title"
      ]
     },
     "metadata": {},
     "output_type": "display_data"
    }
   ],
   "source": [
    "ggplot(data = subset(data_hr, !is.na(WorkLifeBalance)), aes(WorkLifeBalance, MonthlyIncome)) + \n",
    "    geom_boxplot() +\n",
    "    ggtitle(\"Boxplot of Monthly Income per Work-Life Balance Bracket\")"
   ]
  },
  {
   "cell_type": "markdown",
   "id": "greek-billy",
   "metadata": {},
   "source": [
    "> Employees who rate their work-life balance poorly (rate 1) also have a lower monthly income.\n",
    ">\n",
    "> Poor work-life balance AND low income? That's a problem worth further investigations by IBM's HR!"
   ]
  },
  {
   "cell_type": "markdown",
   "id": "instrumental-english",
   "metadata": {},
   "source": [
    "### Gender Pay Gap"
   ]
  },
  {
   "cell_type": "code",
   "execution_count": 33,
   "id": "pending-journal",
   "metadata": {},
   "outputs": [
    {
     "data": {
      "image/png": "[encoded data removed]",
      "text/plain": [
       "plot without title"
      ]
     },
     "metadata": {},
     "output_type": "display_data"
    }
   ],
   "source": [
    "ggplot(data = subset(data_hr, !is.na(Gender)), aes(Gender, MonthlyIncome, fill = Gender)) +\n",
    "  geom_boxplot() + \n",
    "  theme(legend.position = \"none\") +\n",
    "  labs(x = \"Gender\", y = \"Monthly Income\", title = \"Monthly Income per Gender\") +\n",
    "  coord_flip()"
   ]
  },
  {
   "cell_type": "markdown",
   "id": "respiratory-wales",
   "metadata": {},
   "source": [
    "> There are no signs of gender discrimination in pay, with women earning slightly more than men."
   ]
  },
  {
   "cell_type": "markdown",
   "id": "auburn-treatment",
   "metadata": {},
   "source": [
    "### Gender Breakdown"
   ]
  },
  {
   "cell_type": "code",
   "execution_count": 34,
   "id": "annual-sensitivity",
   "metadata": {},
   "outputs": [
    {
     "data": {
      "text/html": [
       "<table>\n",
       "<thead><tr><th scope=col>Gender</th><th scope=col>n</th></tr></thead>\n",
       "<tbody>\n",
       "\t<tr><td>Female</td><td> 9205 </td></tr>\n",
       "\t<tr><td>Male  </td><td>13853 </td></tr>\n",
       "</tbody>\n",
       "</table>\n"
      ],
      "text/latex": [
       "\\begin{tabular}{r|ll}\n",
       " Gender & n\\\\\n",
       "\\hline\n",
       "\t Female &  9205 \\\\\n",
       "\t Male   & 13853 \\\\\n",
       "\\end{tabular}\n"
      ],
      "text/markdown": [
       "\n",
       "| Gender | n |\n",
       "|---|---|\n",
       "| Female |  9205  |\n",
       "| Male   | 13853  |\n",
       "\n"
      ],
      "text/plain": [
       "  Gender n    \n",
       "1 Female  9205\n",
       "2 Male   13853"
      ]
     },
     "metadata": {},
     "output_type": "display_data"
    }
   ],
   "source": [
    "# Number of men and women overall\n",
    "data_hr %>% count(Gender, sort = FALSE)"
   ]
  },
  {
   "cell_type": "code",
   "execution_count": 35,
   "id": "fixed-timeline",
   "metadata": {},
   "outputs": [
    {
     "data": {
      "image/png": "[encoded data removed]",
      "text/plain": [
       "plot without title"
      ]
     },
     "metadata": {},
     "output_type": "display_data"
    }
   ],
   "source": [
    "# Men and women per role\n",
    "tbl <- with(subset(data_hr, !is.na(JobRole)), table(JobRole, Gender))\n",
    "ggplot(as.data.frame(tbl), aes(factor(JobRole), Freq, fill = Gender)) +     \n",
    "    geom_col(position = 'stack') +\n",
    "    theme(axis.text.x = element_text(angle = 30, vjust = 0.7)) +\n",
    "    ggtitle(\"Gender per Role\")"
   ]
  },
  {
   "cell_type": "code",
   "execution_count": 36,
   "id": "chronic-deviation",
   "metadata": {},
   "outputs": [
    {
     "data": {
      "text/html": [
       "<table>\n",
       "<thead><tr><th scope=col>JobRole</th><th scope=col>Gender</th><th scope=col>n</th></tr></thead>\n",
       "<tbody>\n",
       "\t<tr><td>Healthcare Representative</td><td>Female                   </td><td> 812                     </td></tr>\n",
       "\t<tr><td>Healthcare Representative</td><td>Male                     </td><td>1257                     </td></tr>\n",
       "\t<tr><td>Human Resources          </td><td>Female                   </td><td> 256                     </td></tr>\n",
       "\t<tr><td>Human Resources          </td><td>Male                     </td><td> 577                     </td></tr>\n",
       "\t<tr><td>Laboratory Technician    </td><td>Female                   </td><td>1355                     </td></tr>\n",
       "\t<tr><td>Laboratory Technician    </td><td>Male                     </td><td>2757                     </td></tr>\n",
       "\t<tr><td>Manager                  </td><td>Female                   </td><td> 696                     </td></tr>\n",
       "\t<tr><td>Manager                  </td><td>Male                     </td><td> 825                     </td></tr>\n",
       "\t<tr><td>Manufacturing Director   </td><td>Female                   </td><td>1167                     </td></tr>\n",
       "\t<tr><td>Manufacturing Director   </td><td>Male                     </td><td>1179                     </td></tr>\n",
       "\t<tr><td>Research Director        </td><td>Female                   </td><td> 503                     </td></tr>\n",
       "\t<tr><td>Research Director        </td><td>Male                     </td><td> 709                     </td></tr>\n",
       "\t<tr><td>Research Scientist       </td><td>Female                   </td><td>1780                     </td></tr>\n",
       "\t<tr><td>Research Scientist       </td><td>Male                     </td><td>2811                     </td></tr>\n",
       "\t<tr><td>Sales Executive          </td><td>Female                   </td><td>2046                     </td></tr>\n",
       "\t<tr><td>Sales Executive          </td><td>Male                     </td><td>3021                     </td></tr>\n",
       "\t<tr><td>Sales Representative     </td><td>Female                   </td><td> 590                     </td></tr>\n",
       "\t<tr><td>Sales Representative     </td><td>Male                     </td><td> 717                     </td></tr>\n",
       "</tbody>\n",
       "</table>\n"
      ],
      "text/latex": [
       "\\begin{tabular}{r|lll}\n",
       " JobRole & Gender & n\\\\\n",
       "\\hline\n",
       "\t Healthcare Representative & Female                    &  812                     \\\\\n",
       "\t Healthcare Representative & Male                      & 1257                     \\\\\n",
       "\t Human Resources           & Female                    &  256                     \\\\\n",
       "\t Human Resources           & Male                      &  577                     \\\\\n",
       "\t Laboratory Technician     & Female                    & 1355                     \\\\\n",
       "\t Laboratory Technician     & Male                      & 2757                     \\\\\n",
       "\t Manager                   & Female                    &  696                     \\\\\n",
       "\t Manager                   & Male                      &  825                     \\\\\n",
       "\t Manufacturing Director    & Female                    & 1167                     \\\\\n",
       "\t Manufacturing Director    & Male                      & 1179                     \\\\\n",
       "\t Research Director         & Female                    &  503                     \\\\\n",
       "\t Research Director         & Male                      &  709                     \\\\\n",
       "\t Research Scientist        & Female                    & 1780                     \\\\\n",
       "\t Research Scientist        & Male                      & 2811                     \\\\\n",
       "\t Sales Executive           & Female                    & 2046                     \\\\\n",
       "\t Sales Executive           & Male                      & 3021                     \\\\\n",
       "\t Sales Representative      & Female                    &  590                     \\\\\n",
       "\t Sales Representative      & Male                      &  717                     \\\\\n",
       "\\end{tabular}\n"
      ],
      "text/markdown": [
       "\n",
       "| JobRole | Gender | n |\n",
       "|---|---|---|\n",
       "| Healthcare Representative | Female                    |  812                      |\n",
       "| Healthcare Representative | Male                      | 1257                      |\n",
       "| Human Resources           | Female                    |  256                      |\n",
       "| Human Resources           | Male                      |  577                      |\n",
       "| Laboratory Technician     | Female                    | 1355                      |\n",
       "| Laboratory Technician     | Male                      | 2757                      |\n",
       "| Manager                   | Female                    |  696                      |\n",
       "| Manager                   | Male                      |  825                      |\n",
       "| Manufacturing Director    | Female                    | 1167                      |\n",
       "| Manufacturing Director    | Male                      | 1179                      |\n",
       "| Research Director         | Female                    |  503                      |\n",
       "| Research Director         | Male                      |  709                      |\n",
       "| Research Scientist        | Female                    | 1780                      |\n",
       "| Research Scientist        | Male                      | 2811                      |\n",
       "| Sales Executive           | Female                    | 2046                      |\n",
       "| Sales Executive           | Male                      | 3021                      |\n",
       "| Sales Representative      | Female                    |  590                      |\n",
       "| Sales Representative      | Male                      |  717                      |\n",
       "\n"
      ],
      "text/plain": [
       "   JobRole                   Gender n   \n",
       "1  Healthcare Representative Female  812\n",
       "2  Healthcare Representative Male   1257\n",
       "3  Human Resources           Female  256\n",
       "4  Human Resources           Male    577\n",
       "5  Laboratory Technician     Female 1355\n",
       "6  Laboratory Technician     Male   2757\n",
       "7  Manager                   Female  696\n",
       "8  Manager                   Male    825\n",
       "9  Manufacturing Director    Female 1167\n",
       "10 Manufacturing Director    Male   1179\n",
       "11 Research Director         Female  503\n",
       "12 Research Director         Male    709\n",
       "13 Research Scientist        Female 1780\n",
       "14 Research Scientist        Male   2811\n",
       "15 Sales Executive           Female 2046\n",
       "16 Sales Executive           Male   3021\n",
       "17 Sales Representative      Female  590\n",
       "18 Sales Representative      Male    717"
      ]
     },
     "metadata": {},
     "output_type": "display_data"
    }
   ],
   "source": [
    "# Table breakdown of gender x role\n",
    "data_hr %>% count(JobRole, Gender, sort = FALSE)"
   ]
  },
  {
   "cell_type": "markdown",
   "id": "stuffed-median",
   "metadata": {},
   "source": [
    "### Job Role"
   ]
  },
  {
   "cell_type": "code",
   "execution_count": 37,
   "id": "practical-south",
   "metadata": {},
   "outputs": [
    {
     "data": {
      "image/png": "[encoded data removed]",
      "text/plain": [
       "plot without title"
      ]
     },
     "metadata": {},
     "output_type": "display_data"
    }
   ],
   "source": [
    "ggplot(data = subset(data_hr, !is.na(JobRole))) + \n",
    "    geom_boxplot(aes(JobRole, MonthlyIncome)) +\n",
    "    theme(axis.text.x = element_text(angle = 30, vjust = 0.7)) +\n",
    "    ggtitle(\"Monthly Income per Role\")"
   ]
  },
  {
   "cell_type": "code",
   "execution_count": 38,
   "id": "provincial-eligibility",
   "metadata": {},
   "outputs": [
    {
     "data": {
      "image/png": "[encoded data removed]",
      "text/plain": [
       "plot without title"
      ]
     },
     "metadata": {},
     "output_type": "display_data"
    }
   ],
   "source": [
    "ggplot(data = subset(data_hr, !is.na(JobRole))) + \n",
    "    geom_boxplot(aes(JobRole, Age)) +\n",
    "    theme(axis.text.x = element_text(angle = 30, vjust = 0.7)) +\n",
    "    ggtitle(\"Age per Role\")"
   ]
  },
  {
   "cell_type": "code",
   "execution_count": 39,
   "id": "stuffed-aircraft",
   "metadata": {},
   "outputs": [
    {
     "data": {
      "image/png": "[encoded data removed]",
      "text/plain": [
       "plot without title"
      ]
     },
     "metadata": {},
     "output_type": "display_data"
    }
   ],
   "source": [
    "ggplot(data = subset(data_hr, !is.na(JobRole))) + \n",
    "    geom_boxplot(aes(JobRole, YearsAtCompany)) +\n",
    "    theme(axis.text.x = element_text(angle = 30, vjust = 0.7)) +\n",
    "    ggtitle(\"Years at Company per Role\")"
   ]
  },
  {
   "cell_type": "code",
   "execution_count": 40,
   "id": "accomplished-badge",
   "metadata": {},
   "outputs": [
    {
     "data": {
      "image/png": "[encoded data removed]",
      "text/plain": [
       "plot without title"
      ]
     },
     "metadata": {},
     "output_type": "display_data"
    }
   ],
   "source": [
    "ggplot(data = na.omit(data_hr)) + \n",
    "    geom_bar(aes(JobRole, fill = Education), position = \"fill\") +\n",
    "    theme(axis.text.x = element_text(angle = 30, vjust = 0.7)) +\n",
    "    ggtitle(\"Education Level per Role\") + \n",
    "    ylab(\"Proportion\")"
   ]
  },
  {
   "cell_type": "markdown",
   "id": "closed-gardening",
   "metadata": {},
   "source": [
    "### Resignations"
   ]
  },
  {
   "cell_type": "markdown",
   "id": "incoming-circuit",
   "metadata": {},
   "source": [
    "> Note that here I'm using data_rh_1, which is the dataset without terminated employees."
   ]
  },
  {
   "cell_type": "code",
   "execution_count": 41,
   "id": "systematic-florist",
   "metadata": {},
   "outputs": [
    {
     "data": {
      "image/png": "[encoded data removed]",
      "text/plain": [
       "plot without title"
      ]
     },
     "metadata": {},
     "output_type": "display_data"
    }
   ],
   "source": [
    "ggplot(data = data_hr_1) + \n",
    "    geom_bar(aes(x = Education , fill = Attrition), position = 'fill') + \n",
    "    facet_grid(.~Department)  +\n",
    "    ggtitle(\"Resignations per Department and Education\")"
   ]
  },
  {
   "cell_type": "markdown",
   "id": "naughty-bloom",
   "metadata": {},
   "source": [
    "> Funnily enough, HR staff seem to have the highest resignation rates... Perhaps they know something other employees don't?.."
   ]
  },
  {
   "cell_type": "code",
   "execution_count": 42,
   "id": "velvet-depression",
   "metadata": {},
   "outputs": [
    {
     "data": {
      "image/png": "[encoded data removed]",
      "text/plain": [
       "plot without title"
      ]
     },
     "metadata": {},
     "output_type": "display_data"
    }
   ],
   "source": [
    "ggplot(data = data_hr_1) + \n",
    "    geom_bar(aes(x = Education , fill = Attrition), position = 'fill') + \n",
    "    facet_grid(.~JobRole)  +\n",
    "    ggtitle(\"Resignations per Job Role and Education\")"
   ]
  },
  {
   "cell_type": "markdown",
   "id": "classical-worship",
   "metadata": {},
   "source": [
    "> Unsurprisingly we see that managers and (research) directors are less prone to resignations, while we see that sales representatives are quite prone to resignations, which is not really surprising for anyone who has been in the job market and know that the profile of people working in those areas tends to be those always chasing a better deal."
   ]
  },
  {
   "cell_type": "code",
   "execution_count": 43,
   "id": "occupied-congress",
   "metadata": {},
   "outputs": [
    {
     "data": {
      "image/png": "[encoded data removed]",
      "text/plain": [
       "plot without title"
      ]
     },
     "metadata": {},
     "output_type": "display_data"
    }
   ],
   "source": [
    "# Analysis of variables frequently considered during the hiring process\n",
    "p1 <- ggplot(data_hr_1) + geom_bar(aes(x = Age, fill = Attrition), position = 'fill') + ggtitle(\"Resignations per Age\")\n",
    "p2 <- ggplot(data_hr_1) + geom_bar(aes(x = MaritalStatus, fill = Attrition), position = 'fill') + ggtitle(\"Resignations per MaritalStatus\")\n",
    "p3 <- ggplot(data_hr_1) + geom_bar(aes(x = Education, fill = Attrition), position = 'fill') + ggtitle(\"Resignations per Education\")\n",
    "p4 <- ggplot(data_hr_1) + geom_bar(aes(x = DistanceFromHome, fill = Attrition), position = 'fill') + ggtitle(\"Resignations per DistanceFromHome\")\n",
    "grid.arrange(p1, p2, p3, p4, nrow=2, ncol=2)"
   ]
  },
  {
   "cell_type": "markdown",
   "id": "executed-grant",
   "metadata": {},
   "source": [
    "> Looks like that at about the age people start having babies, they lose their appetite for resigning and seeking new opportunities...\n",
    ">\n",
    "> Also Single people are somewhat more likely to resign, as are those living further away from the company."
   ]
  },
  {
   "cell_type": "code",
   "execution_count": 44,
   "id": "geological-fleece",
   "metadata": {},
   "outputs": [
    {
     "data": {
      "image/png": "[encoded data removed]",
      "text/plain": [
       "plot without title"
      ]
     },
     "metadata": {},
     "output_type": "display_data"
    }
   ],
   "source": [
    "# Analysis of variables measuring the \"status\" of a current employee\n",
    "p1 <- ggplot(data_hr_1) + geom_bar(aes(x = BusinessTravel, fill = Attrition), position = 'fill') + ggtitle(\"Resignations per BusinessTravel\")\n",
    "p2 <- ggplot(data_hr_1) + geom_bar(aes(x = TrainingTimesLastYear, fill = Attrition), position = 'fill') + ggtitle(\"Resignations per TrainingTimesLastYear\")\n",
    "p3 <- ggplot(data_hr_1) + geom_bar(aes(x = OverTime, fill = Attrition), position = 'fill') + ggtitle(\"Resignations per OverTime\")\n",
    "p4 <- ggplot(data_hr_1) + geom_bar(aes(x = StockOptionLevel, fill = Attrition), position = 'fill') + ggtitle(\"Resignations per StockOptionLevel\")\n",
    "grid.arrange(p1, p2, p3, p4, nrow=2, ncol=2)"
   ]
  },
  {
   "cell_type": "markdown",
   "id": "damaged-london",
   "metadata": {},
   "source": [
    "> When business travel and over time requirements make people more prone to resignations. Are those two correlated?"
   ]
  },
  {
   "cell_type": "code",
   "execution_count": 48,
   "id": "joint-going",
   "metadata": {},
   "outputs": [
    {
     "data": {
      "text/html": [
       "<table>\n",
       "<thead><tr><th scope=col>BusinessTravel</th><th scope=col>OverTime</th><th scope=col>n</th></tr></thead>\n",
       "<tbody>\n",
       "\t<tr><td>Non-Travel       </td><td>No               </td><td> 1796            </td></tr>\n",
       "\t<tr><td>Non-Travel       </td><td>Yes              </td><td>  548            </td></tr>\n",
       "\t<tr><td>Travel_Frequently</td><td>No               </td><td> 3054            </td></tr>\n",
       "\t<tr><td>Travel_Frequently</td><td>Yes              </td><td> 1324            </td></tr>\n",
       "\t<tr><td>Travel_Rarely    </td><td>No               </td><td>11674            </td></tr>\n",
       "\t<tr><td>Travel_Rarely    </td><td>Yes              </td><td> 4662            </td></tr>\n",
       "</tbody>\n",
       "</table>\n"
      ],
      "text/latex": [
       "\\begin{tabular}{r|lll}\n",
       " BusinessTravel & OverTime & n\\\\\n",
       "\\hline\n",
       "\t Non-Travel        & No                &  1796            \\\\\n",
       "\t Non-Travel        & Yes               &   548            \\\\\n",
       "\t Travel\\_Frequently & No                  &  3054              \\\\\n",
       "\t Travel\\_Frequently & Yes                 &  1324              \\\\\n",
       "\t Travel\\_Rarely     & No                  & 11674              \\\\\n",
       "\t Travel\\_Rarely     & Yes                 &  4662              \\\\\n",
       "\\end{tabular}\n"
      ],
      "text/markdown": [
       "\n",
       "| BusinessTravel | OverTime | n |\n",
       "|---|---|---|\n",
       "| Non-Travel        | No                |  1796             |\n",
       "| Non-Travel        | Yes               |   548             |\n",
       "| Travel_Frequently | No                |  3054             |\n",
       "| Travel_Frequently | Yes               |  1324             |\n",
       "| Travel_Rarely     | No                | 11674             |\n",
       "| Travel_Rarely     | Yes               |  4662             |\n",
       "\n"
      ],
      "text/plain": [
       "  BusinessTravel    OverTime n    \n",
       "1 Non-Travel        No        1796\n",
       "2 Non-Travel        Yes        548\n",
       "3 Travel_Frequently No        3054\n",
       "4 Travel_Frequently Yes       1324\n",
       "5 Travel_Rarely     No       11674\n",
       "6 Travel_Rarely     Yes       4662"
      ]
     },
     "metadata": {},
     "output_type": "display_data"
    }
   ],
   "source": [
    "# Co-Occurance of Business Travel and Over Time\n",
    "data_hr %>% count(BusinessTravel, OverTime, sort = FALSE)"
   ]
  },
  {
   "cell_type": "markdown",
   "id": "likely-square",
   "metadata": {},
   "source": [
    "> No correlation between BusinessTravel and OverTime. Seem that regardless of business travel status, about 1/3 of employee's report doing overtime."
   ]
  },
  {
   "cell_type": "code",
   "execution_count": 49,
   "id": "western-hearts",
   "metadata": {},
   "outputs": [
    {
     "data": {
      "image/png": "[encoded data removed]",
      "text/plain": [
       "plot without title"
      ]
     },
     "metadata": {},
     "output_type": "display_data"
    }
   ],
   "source": [
    "# Analysis of variables measuring job satisfactions\n",
    "p1 <- ggplot(data_hr_1) + geom_bar(aes(x = JobSatisfaction, fill = Attrition), position = 'fill') + ggtitle(\"Resignations per JobSatisfaction\")\n",
    "p2 <- ggplot(data_hr_1) + geom_bar(aes(x = JobInvolvement, fill = Attrition), position = 'fill') + ggtitle(\"Resignations per JobInvolvement\")\n",
    "p3 <- ggplot(data_hr_1) + geom_bar(aes(x = EnvironmentSatisfaction, fill = Attrition), position = 'fill') + ggtitle(\"Resignations per EnvironmentSatisfaction\")\n",
    "p4 <- ggplot(data_hr_1) + geom_bar(aes(x = WorkLifeBalance, fill = Attrition), position = 'fill') + ggtitle(\"Resignations per WorkLifeBalance\")\n",
    "grid.arrange(p1, p2, p3, p4, nrow=2, ncol=2)"
   ]
  },
  {
   "cell_type": "markdown",
   "id": "distributed-chamber",
   "metadata": {},
   "source": [
    "> Again no surprises, less satisfaction and involment lead to more resignations. Same for worse work-life balance."
   ]
  },
  {
   "cell_type": "markdown",
   "id": "forced-highland",
   "metadata": {},
   "source": [
    "## Predictive Modeling"
   ]
  },
  {
   "cell_type": "markdown",
   "id": "floppy-guard",
   "metadata": {},
   "source": [
    "> Here the goal isn't to train the best possible algorithm to predict new data points, but rather to train understandable algorithms which would provide useful information to the Human Resources department. For this reason there will also be no train-test split.\n",
    ">\n",
    "> One of the main implicatios is that I will only be using variables which are known during the hiring process, as variables that only occur after hiring are useless for making hiring predictions."
   ]
  },
  {
   "cell_type": "code",
   "execution_count": 50,
   "id": "assigned-skiing",
   "metadata": {},
   "outputs": [
    {
     "data": {
      "text/html": [
       "<table>\n",
       "<thead><tr><th scope=col>Age</th><th scope=col>Attrition</th><th scope=col>BusinessTravel</th><th scope=col>Department</th><th scope=col>DistanceFromHome</th><th scope=col>Education</th><th scope=col>EducationField</th><th scope=col>EnvironmentSatisfaction</th><th scope=col>Gender</th><th scope=col>JobInvolvement</th><th scope=col>...</th><th scope=col>TrainingTimesLastYear</th><th scope=col>WorkLifeBalance</th><th scope=col>YearsAtCompany</th><th scope=col>YearsInCurrentRole</th><th scope=col>YearsSinceLastPromotion</th><th scope=col>YearsWithCurrManager</th><th scope=col>EmployeeSource</th><th scope=col>AgeStartedWorking</th><th scope=col>PriorYearsOfExperience</th><th scope=col>AverageTenure</th></tr></thead>\n",
       "<tbody>\n",
       "\t<tr><td>41                   </td><td>Voluntary Resignation</td><td>Travel_Rarely        </td><td>Sales                </td><td>1                    </td><td>2                    </td><td>Life Sciences        </td><td>2                    </td><td>Female               </td><td>3                    </td><td>...                  </td><td>0                    </td><td>1                    </td><td>6                    </td><td>4                    </td><td>0                    </td><td>5                    </td><td>Referral             </td><td>33                   </td><td>2                    </td><td>0.25                 </td></tr>\n",
       "\t<tr><td>37                   </td><td>Voluntary Resignation</td><td>Travel_Rarely        </td><td>Human Resources      </td><td>6                    </td><td>4                    </td><td>Human Resources      </td><td>1                    </td><td>Female               </td><td>3                    </td><td>...                  </td><td>0                    </td><td>1                    </td><td>6                    </td><td>4                    </td><td>0                    </td><td>5                    </td><td>Referral             </td><td>29                   </td><td>2                    </td><td>0.25                 </td></tr>\n",
       "\t<tr><td>41                   </td><td>Voluntary Resignation</td><td>Travel_Rarely        </td><td>Sales                </td><td>1                    </td><td>2                    </td><td>Life Sciences        </td><td>2                    </td><td>Female               </td><td>3                    </td><td>...                  </td><td>0                    </td><td>1                    </td><td>6                    </td><td>4                    </td><td>0                    </td><td>5                    </td><td>Referral             </td><td>33                   </td><td>2                    </td><td>0.50                 </td></tr>\n",
       "</tbody>\n",
       "</table>\n"
      ],
      "text/latex": [
       "\\begin{tabular}{r|llllllllllllllllllllllllllllllll}\n",
       " Age & Attrition & BusinessTravel & Department & DistanceFromHome & Education & EducationField & EnvironmentSatisfaction & Gender & JobInvolvement & ... & TrainingTimesLastYear & WorkLifeBalance & YearsAtCompany & YearsInCurrentRole & YearsSinceLastPromotion & YearsWithCurrManager & EmployeeSource & AgeStartedWorking & PriorYearsOfExperience & AverageTenure\\\\\n",
       "\\hline\n",
       "\t 41                    & Voluntary Resignation & Travel\\_Rarely       & Sales                 & 1                     & 2                     & Life Sciences         & 2                     & Female                & 3                     & ...                   & 0                     & 1                     & 6                     & 4                     & 0                     & 5                     & Referral              & 33                    & 2                     & 0.25                 \\\\\n",
       "\t 37                    & Voluntary Resignation & Travel\\_Rarely       & Human Resources       & 6                     & 4                     & Human Resources       & 1                     & Female                & 3                     & ...                   & 0                     & 1                     & 6                     & 4                     & 0                     & 5                     & Referral              & 29                    & 2                     & 0.25                 \\\\\n",
       "\t 41                    & Voluntary Resignation & Travel\\_Rarely       & Sales                 & 1                     & 2                     & Life Sciences         & 2                     & Female                & 3                     & ...                   & 0                     & 1                     & 6                     & 4                     & 0                     & 5                     & Referral              & 33                    & 2                     & 0.50                 \\\\\n",
       "\\end{tabular}\n"
      ],
      "text/markdown": [
       "\n",
       "| Age | Attrition | BusinessTravel | Department | DistanceFromHome | Education | EducationField | EnvironmentSatisfaction | Gender | JobInvolvement | ... | TrainingTimesLastYear | WorkLifeBalance | YearsAtCompany | YearsInCurrentRole | YearsSinceLastPromotion | YearsWithCurrManager | EmployeeSource | AgeStartedWorking | PriorYearsOfExperience | AverageTenure |\n",
       "|---|---|---|---|---|---|---|---|---|---|---|---|---|---|---|---|---|---|---|---|---|\n",
       "| 41                    | Voluntary Resignation | Travel_Rarely         | Sales                 | 1                     | 2                     | Life Sciences         | 2                     | Female                | 3                     | ...                   | 0                     | 1                     | 6                     | 4                     | 0                     | 5                     | Referral              | 33                    | 2                     | 0.25                  |\n",
       "| 37                    | Voluntary Resignation | Travel_Rarely         | Human Resources       | 6                     | 4                     | Human Resources       | 1                     | Female                | 3                     | ...                   | 0                     | 1                     | 6                     | 4                     | 0                     | 5                     | Referral              | 29                    | 2                     | 0.25                  |\n",
       "| 41                    | Voluntary Resignation | Travel_Rarely         | Sales                 | 1                     | 2                     | Life Sciences         | 2                     | Female                | 3                     | ...                   | 0                     | 1                     | 6                     | 4                     | 0                     | 5                     | Referral              | 33                    | 2                     | 0.50                  |\n",
       "\n"
      ],
      "text/plain": [
       "  Age Attrition             BusinessTravel Department      DistanceFromHome\n",
       "1 41  Voluntary Resignation Travel_Rarely  Sales           1               \n",
       "2 37  Voluntary Resignation Travel_Rarely  Human Resources 6               \n",
       "3 41  Voluntary Resignation Travel_Rarely  Sales           1               \n",
       "  Education EducationField  EnvironmentSatisfaction Gender JobInvolvement ...\n",
       "1 2         Life Sciences   2                       Female 3              ...\n",
       "2 4         Human Resources 1                       Female 3              ...\n",
       "3 2         Life Sciences   2                       Female 3              ...\n",
       "  TrainingTimesLastYear WorkLifeBalance YearsAtCompany YearsInCurrentRole\n",
       "1 0                     1               6              4                 \n",
       "2 0                     1               6              4                 \n",
       "3 0                     1               6              4                 \n",
       "  YearsSinceLastPromotion YearsWithCurrManager EmployeeSource AgeStartedWorking\n",
       "1 0                       5                    Referral       33               \n",
       "2 0                       5                    Referral       29               \n",
       "3 0                       5                    Referral       33               \n",
       "  PriorYearsOfExperience AverageTenure\n",
       "1 2                      0.25         \n",
       "2 2                      0.25         \n",
       "3 2                      0.50         "
      ]
     },
     "metadata": {},
     "output_type": "display_data"
    }
   ],
   "source": [
    "# Remebering all variables\n",
    "head(data_hr, 3)"
   ]
  },
  {
   "cell_type": "markdown",
   "id": "addressed-square",
   "metadata": {},
   "source": [
    "### Logistic Regression"
   ]
  },
  {
   "cell_type": "code",
   "execution_count": 51,
   "id": "completed-basketball",
   "metadata": {},
   "outputs": [
    {
     "data": {
      "text/plain": [
       "\n",
       "Call:\n",
       "glm(formula = Attrition ~ Age + Department + DistanceFromHome + \n",
       "    EmployeeSource + JobRole + MaritalStatus + AverageTenure + \n",
       "    PriorYearsOfExperience + Gender + Education + EducationField, \n",
       "    family = binomial, data = data_hr_1)\n",
       "\n",
       "Deviance Residuals: \n",
       "    Min       1Q   Median       3Q      Max  \n",
       "-1.4484  -0.6177  -0.4918  -0.3558   2.7300  \n",
       "\n",
       "Coefficients:\n",
       "                                  Estimate Std. Error z value Pr(>|z|)    \n",
       "(Intercept)                      -0.499751   0.199492  -2.505 0.012241 *  \n",
       "Age                              -0.044889   0.002446 -18.348  < 2e-16 ***\n",
       "DepartmentResearch & Development -0.427955   0.103053  -4.153 3.28e-05 ***\n",
       "DepartmentSales                   0.025684   0.106499   0.241 0.809423    \n",
       "DistanceFromHome                  0.020372   0.002522   8.076 6.69e-16 ***\n",
       "EmployeeSourceCompany Website     0.183335   0.074868   2.449 0.014334 *  \n",
       "EmployeeSourceGlassDoor           0.006274   0.089680   0.070 0.944229    \n",
       "EmployeeSourceIndeed             -0.080908   0.089734  -0.902 0.367244    \n",
       "EmployeeSourceJora                0.183678   0.084958   2.162 0.030618 *  \n",
       "EmployeeSourceLinkedIn           -0.079145   0.090405  -0.875 0.381325    \n",
       "EmployeeSourceRecruit.net        -0.050665   0.089444  -0.566 0.571095    \n",
       "EmployeeSourceReferral            0.230121   0.147168   1.564 0.117897    \n",
       "EmployeeSourceSeek               -0.005837   0.079828  -0.073 0.941708    \n",
       "JobRoleHuman Resources            0.107348   0.125753   0.854 0.393302    \n",
       "JobRoleLaboratory Technician      0.314968   0.080707   3.903 9.52e-05 ***\n",
       "JobRoleManager                   -0.402633   0.123788  -3.253 0.001144 ** \n",
       "JobRoleManufacturing Director    -0.083426   0.095273  -0.876 0.381221    \n",
       "JobRoleResearch Director         -0.292195   0.126243  -2.315 0.020637 *  \n",
       "JobRoleResearch Scientist         0.111877   0.079359   1.410 0.158608    \n",
       "JobRoleSales Executive           -0.028140   0.079873  -0.352 0.724611    \n",
       "JobRoleSales Representative       0.478077   0.096067   4.977 6.47e-07 ***\n",
       "MaritalStatusMarried              0.176289   0.053865   3.273 0.001065 ** \n",
       "MaritalStatusSingle               0.747383   0.053896  13.867  < 2e-16 ***\n",
       "AverageTenure                    -0.021245   0.009467  -2.244 0.024825 *  \n",
       "PriorYearsOfExperience            0.019787   0.005399   3.665 0.000248 ***\n",
       "GenderMale                        0.030982   0.038752   0.800 0.424000    \n",
       "Education2                        0.067584   0.069195   0.977 0.328712    \n",
       "Education3                        0.092553   0.061236   1.511 0.130684    \n",
       "Education4                        0.071013   0.066760   1.064 0.287461    \n",
       "Education5                       -0.233758   0.134267  -1.741 0.081685 .  \n",
       "EducationFieldLife Sciences      -0.148858   0.143810  -1.035 0.300620    \n",
       "EducationFieldMarketing          -0.106268   0.152995  -0.695 0.487317    \n",
       "EducationFieldMedical            -0.202212   0.145203  -1.393 0.163736    \n",
       "EducationFieldOther              -0.137807   0.161652  -0.852 0.393940    \n",
       "EducationFieldTechnical Degree    0.180977   0.154552   1.171 0.241608    \n",
       "---\n",
       "Signif. codes:  0 '***' 0.001 '**' 0.01 '*' 0.05 '.' 0.1 ' ' 1\n",
       "\n",
       "(Dispersion parameter for binomial family taken to be 1)\n",
       "\n",
       "    Null deviance: 19951  on 22970  degrees of freedom\n",
       "Residual deviance: 18626  on 22936  degrees of freedom\n",
       "AIC: 18696\n",
       "\n",
       "Number of Fisher Scoring iterations: 5\n"
      ]
     },
     "metadata": {},
     "output_type": "display_data"
    }
   ],
   "source": [
    "# Logistic Regression Model (GLM) using variables available at hiring time\n",
    "model_v1 <- glm(Attrition ~ Age + Department + DistanceFromHome + EmployeeSource + \n",
    "                   JobRole + MaritalStatus + AverageTenure + PriorYearsOfExperience + Gender + \n",
    "                   Education + EducationField, \n",
    "                 family = binomial, \n",
    "                 data = data_hr_1)\n",
    "summary(model_v1)"
   ]
  },
  {
   "cell_type": "markdown",
   "id": "vocational-integer",
   "metadata": {},
   "source": [
    "> Seems like all education related variables (Education and EducationField) are not really significative (have high p-values) when it comes to predicting Attrition, so I'll remove them to make a simpler model."
   ]
  },
  {
   "cell_type": "code",
   "execution_count": 52,
   "id": "foster-tiffany",
   "metadata": {},
   "outputs": [
    {
     "data": {
      "text/plain": [
       "\n",
       "Call:\n",
       "glm(formula = Attrition ~ Age + Department + DistanceFromHome + \n",
       "    EmployeeSource + JobRole + MaritalStatus + AverageTenure + \n",
       "    PriorYearsOfExperience + Gender, family = binomial, data = data_hr_1)\n",
       "\n",
       "Deviance Residuals: \n",
       "    Min       1Q   Median       3Q      Max  \n",
       "-1.3428  -0.6201  -0.4941  -0.3619   2.7143  \n",
       "\n",
       "Coefficients:\n",
       "                                  Estimate Std. Error z value Pr(>|z|)    \n",
       "(Intercept)                      -0.594443   0.163302  -3.640 0.000272 ***\n",
       "Age                              -0.044338   0.002361 -18.781  < 2e-16 ***\n",
       "DepartmentResearch & Development -0.455831   0.097648  -4.668 3.04e-06 ***\n",
       "DepartmentSales                   0.006375   0.100798   0.063 0.949567    \n",
       "DistanceFromHome                  0.023945   0.002219  10.792  < 2e-16 ***\n",
       "EmployeeSourceCompany Website     0.185836   0.074684   2.488 0.012835 *  \n",
       "EmployeeSourceGlassDoor           0.004131   0.089469   0.046 0.963174    \n",
       "EmployeeSourceIndeed             -0.084488   0.089587  -0.943 0.345638    \n",
       "EmployeeSourceJora                0.182141   0.084629   2.152 0.031378 *  \n",
       "EmployeeSourceLinkedIn           -0.073833   0.090249  -0.818 0.413300    \n",
       "EmployeeSourceRecruit.net        -0.058670   0.089241  -0.657 0.510903    \n",
       "EmployeeSourceReferral            0.237922   0.146800   1.621 0.105078    \n",
       "EmployeeSourceSeek               -0.006818   0.079571  -0.086 0.931717    \n",
       "JobRoleHuman Resources            0.099083   0.125594   0.789 0.430163    \n",
       "JobRoleLaboratory Technician      0.312339   0.080556   3.877 0.000106 ***\n",
       "JobRoleManager                   -0.418085   0.123665  -3.381 0.000723 ***\n",
       "JobRoleManufacturing Director    -0.079696   0.095061  -0.838 0.401826    \n",
       "JobRoleResearch Director         -0.308958   0.126075  -2.451 0.014263 *  \n",
       "JobRoleResearch Scientist         0.119993   0.079265   1.514 0.130071    \n",
       "JobRoleSales Executive           -0.023432   0.079774  -0.294 0.768961    \n",
       "JobRoleSales Representative       0.483836   0.095952   5.042 4.60e-07 ***\n",
       "MaritalStatusMarried              0.176480   0.053793   3.281 0.001035 ** \n",
       "MaritalStatusSingle               0.747665   0.053772  13.904  < 2e-16 ***\n",
       "AverageTenure                    -0.019906   0.009465  -2.103 0.035453 *  \n",
       "PriorYearsOfExperience            0.019187   0.005400   3.553 0.000381 ***\n",
       "GenderMale                        0.033764   0.038690   0.873 0.382838    \n",
       "---\n",
       "Signif. codes:  0 '***' 0.001 '**' 0.01 '*' 0.05 '.' 0.1 ' ' 1\n",
       "\n",
       "(Dispersion parameter for binomial family taken to be 1)\n",
       "\n",
       "    Null deviance: 19951  on 22970  degrees of freedom\n",
       "Residual deviance: 18668  on 22945  degrees of freedom\n",
       "AIC: 18720\n",
       "\n",
       "Number of Fisher Scoring iterations: 5\n"
      ]
     },
     "metadata": {},
     "output_type": "display_data"
    }
   ],
   "source": [
    "# Removing values with a high p-value (Education and EducationField)\n",
    "model_v2 <- glm(Attrition ~ Age + Department + DistanceFromHome + EmployeeSource + \n",
    "                   JobRole + MaritalStatus + AverageTenure + PriorYearsOfExperience + Gender, \n",
    "                 family = binomial, \n",
    "                 data = data_hr_1)\n",
    "summary(model_v2)"
   ]
  },
  {
   "cell_type": "markdown",
   "id": "editorial-account",
   "metadata": {},
   "source": [
    "> Variables that are significative predictors of STAYING: (negative coefficients)\n",
    "> 1. Age\n",
    "> 2. Department = Research & Development\n",
    "> 3. JobRole = Manager                   \n",
    "> 4. JobRole = Research Director   \n",
    "> 5. AverageTenure\n",
    ">\n",
    "\n",
    ">\n",
    "> Variables that are significative predictors of LEAVING: (positive coefficients)\n",
    "> 1. DistanceFromHome\n",
    "> 2. EmployeeSource = Company Website\n",
    "> 3. JobRole = Laboratory Technician\n",
    "> 4. JobRole = Sales Representative\n",
    "> 5. MaritalStatus = Married \n",
    "> 6. MaritalStatus = Single               \n",
    "> 7. PriorYearsOfExperience"
   ]
  },
  {
   "cell_type": "markdown",
   "id": "mediterranean-composition",
   "metadata": {},
   "source": [
    "### Gradient Boosting with XGBoost"
   ]
  },
  {
   "cell_type": "markdown",
   "id": "running-national",
   "metadata": {},
   "source": [
    "XGBoost documentation on Feature Selection: https://xgboost.readthedocs.io/en/latest/R-package/discoverYourData.html"
   ]
  },
  {
   "cell_type": "code",
   "execution_count": 53,
   "id": "august-chase",
   "metadata": {},
   "outputs": [
    {
     "name": "stderr",
     "output_type": "stream",
     "text": [
      "Loading required package: xgboost\n",
      "Warning message:\n",
      "\"package 'xgboost' was built under R version 3.6.3\"\n",
      "Attaching package: 'xgboost'\n",
      "\n",
      "The following object is masked from 'package:dplyr':\n",
      "\n",
      "    slice\n",
      "\n",
      "Loading required package: Matrix\n",
      "\n",
      "Attaching package: 'Matrix'\n",
      "\n",
      "The following objects are masked from 'package:tidyr':\n",
      "\n",
      "    expand, pack, unpack\n",
      "\n",
      "Warning message:\n",
      "\"package 'correlationfunnel' was built under R version 3.6.3\"== Using correlationfunnel? ====================================================\n",
      "You might also be interested in applied data science training for business.\n",
      "</> Learn more at - www.business-science.io </>\n",
      "Loading required package: vcd\n",
      "Warning message:\n",
      "\"package 'vcd' was built under R version 3.6.3\"Loading required package: grid\n"
     ]
    }
   ],
   "source": [
    "# Necessary packages\n",
    "require(xgboost)\n",
    "require(Matrix)\n",
    "require(data.table)\n",
    "library(correlationfunnel)\n",
    "if (!require('vcd')) install.packages('vcd')"
   ]
  },
  {
   "cell_type": "code",
   "execution_count": 79,
   "id": "complex-execution",
   "metadata": {},
   "outputs": [
    {
     "name": "stdout",
     "output_type": "stream",
     "text": [
      " num [1:22971] 1 1 1 1 1 1 1 1 1 1 ...\n",
      " - attr(*, \"assign\")= int [1:2] 1 1\n",
      " - attr(*, \"contrasts\")=List of 1\n",
      "  ..$ Attrition: chr \"contr.treatment\"\n"
     ]
    }
   ],
   "source": [
    "# Create a binary target variable (required by XGBoost)\n",
    "\n",
    "# Binarize the Attrition column\n",
    "tmp <- data_hr_1 %>%\n",
    "        select(Attrition) %>%\n",
    "        binarize()\n",
    "\n",
    "# Select the binary mapping where CurrentEmployee==0 and VoluntaryResignation==1\n",
    "data_hr_1$Resigned <- tmp[2]\n",
    "\n",
    "# Fix the data type of the new column (from list to numeric)\n",
    "data_hr$Resigned  <- as.integer(data_hr$Resigned)\n",
    "\n",
    "# Check result\n",
    "str(data_hr_1$Resigned)"
   ]
  },
  {
   "cell_type": "code",
   "execution_count": 80,
   "id": "funny-interference",
   "metadata": {},
   "outputs": [
    {
     "data": {
      "text/html": [
       "<table>\n",
       "<thead><tr><th scope=col>Resigned</th><th scope=col>n</th></tr></thead>\n",
       "<tbody>\n",
       "\t<tr><td>0    </td><td>19370</td></tr>\n",
       "\t<tr><td>1    </td><td> 3601</td></tr>\n",
       "</tbody>\n",
       "</table>\n"
      ],
      "text/latex": [
       "\\begin{tabular}{r|ll}\n",
       " Resigned & n\\\\\n",
       "\\hline\n",
       "\t 0     & 19370\\\\\n",
       "\t 1     &  3601\\\\\n",
       "\\end{tabular}\n"
      ],
      "text/markdown": [
       "\n",
       "| Resigned | n |\n",
       "|---|---|\n",
       "| 0     | 19370 |\n",
       "| 1     |  3601 |\n",
       "\n"
      ],
      "text/plain": [
       "  Resigned n    \n",
       "1 0        19370\n",
       "2 1         3601"
      ]
     },
     "metadata": {},
     "output_type": "display_data"
    }
   ],
   "source": [
    "# Class distribution\n",
    "data_hr_1 %>% count(Resigned, sort = FALSE)"
   ]
  },
  {
   "cell_type": "markdown",
   "id": "continuing-receipt",
   "metadata": {},
   "source": [
    "> As expected there is some inbalance, but if I recall the literature correctly, as long as the rare class is still ~20% the size of the common class, then one shouldn't expect many issues due to class balance."
   ]
  },
  {
   "cell_type": "code",
   "execution_count": 81,
   "id": "hundred-indonesia",
   "metadata": {},
   "outputs": [
    {
     "name": "stderr",
     "output_type": "stream",
     "text": [
      "   [[ suppressing 35 column names '(Intercept)', 'Age', 'DepartmentResearch & Development' ... ]]\n"
     ]
    },
    {
     "data": {
      "text/plain": [
       "6 x 35 sparse Matrix of class \"dgCMatrix\"\n",
       "                                                                           \n",
       "1 1 41 . 1 1 . . . . . . 1 . . . . . . . 1 . . 1 0.25 2 . 1 . . . 1 . . . .\n",
       "2 1 37 . . 6 . . . . . . 1 . . . . . . . 1 . . 1 0.25 2 . . . 1 . . . . . .\n",
       "3 1 41 . 1 1 . . . . . . 1 . . . . . . . 1 . . 1 0.50 2 . 1 . . . 1 . . . .\n",
       "4 1 37 . . 6 . . . . . . 1 . . . . . . . 1 . . 1 0.40 2 . . . 1 . . 1 . . .\n",
       "5 1 37 . . 6 . . . . . . 1 . . . . . . . 1 . . 1 0.25 2 . . . 1 . . . . . .\n",
       "6 1 37 . . 6 . . . . . . 1 . . . . . . . 1 . . 1 0.40 2 . . . 1 . . 1 . . ."
      ]
     },
     "metadata": {},
     "output_type": "display_data"
    }
   ],
   "source": [
    "# Create an one-hot encoded sparse matrix needed for XGBOOST, using only the same variables as in model_v1\n",
    "sparse_matrix <- sparse.model.matrix(Resigned ~ Age + Department + DistanceFromHome + EmployeeSource + \n",
    "                                         JobRole + MaritalStatus + AverageTenure + PriorYearsOfExperience + Gender + \n",
    "                                         Education + EducationField, \n",
    "                                     data = data_hr_1)\n",
    "head(sparse_matrix)"
   ]
  },
  {
   "cell_type": "code",
   "execution_count": 82,
   "id": "acoustic-nicholas",
   "metadata": {},
   "outputs": [
    {
     "data": {
      "text/html": [
       "<ol class=list-inline>\n",
       "\t<li>1</li>\n",
       "\t<li>1</li>\n",
       "\t<li>1</li>\n",
       "\t<li>1</li>\n",
       "\t<li>1</li>\n",
       "\t<li>1</li>\n",
       "</ol>\n"
      ],
      "text/latex": [
       "\\begin{enumerate*}\n",
       "\\item 1\n",
       "\\item 1\n",
       "\\item 1\n",
       "\\item 1\n",
       "\\item 1\n",
       "\\item 1\n",
       "\\end{enumerate*}\n"
      ],
      "text/markdown": [
       "1. 1\n",
       "2. 1\n",
       "3. 1\n",
       "4. 1\n",
       "5. 1\n",
       "6. 1\n",
       "\n",
       "\n"
      ],
      "text/plain": [
       "[1] 1 1 1 1 1 1"
      ]
     },
     "metadata": {},
     "output_type": "display_data"
    }
   ],
   "source": [
    "# Create a vector with the binzarized target label\n",
    "output_vector <- data_hr_1[,Resigned]\n",
    "head(output_vector)"
   ]
  },
  {
   "cell_type": "code",
   "execution_count": 83,
   "id": "endless-mobile",
   "metadata": {},
   "outputs": [],
   "source": [
    "# Train model\n",
    "bst <- xgboost(data = sparse_matrix, label = output_vector, max.depth = 6,\n",
    "               eta = 0.3, nthread = -1, nrounds = 100, \n",
    "               objective = \"binary:logistic\", eval_metric = \"logloss\", verbose = 0)"
   ]
  },
  {
   "cell_type": "code",
   "execution_count": 84,
   "id": "lesser-creativity",
   "metadata": {},
   "outputs": [
    {
     "data": {
      "text/html": [
       "<table>\n",
       "<thead><tr><th scope=col>Feature</th><th scope=col>Gain</th><th scope=col>Cover</th><th scope=col>Frequency</th></tr></thead>\n",
       "<tbody>\n",
       "\t<tr><td>Age                             </td><td>0.26544632                      </td><td>0.32700307                      </td><td>0.22757906                      </td></tr>\n",
       "\t<tr><td>DistanceFromHome                </td><td>0.22301070                      </td><td>0.17786409                      </td><td>0.19932608                      </td></tr>\n",
       "\t<tr><td>PriorYearsOfExperience          </td><td>0.09457971                      </td><td>0.11191857                      </td><td>0.10082945                      </td></tr>\n",
       "\t<tr><td>AverageTenure                   </td><td>0.03782742                      </td><td>0.06216012                      </td><td>0.06220840                      </td></tr>\n",
       "\t<tr><td>Education3                      </td><td>0.03614013                      </td><td>0.01336200                      </td><td>0.03421462                      </td></tr>\n",
       "\t<tr><td>DepartmentResearch &amp; Development</td><td>0.02853856                          </td><td>0.01305244                          </td><td>0.02980819                          </td></tr>\n",
       "</tbody>\n",
       "</table>\n"
      ],
      "text/latex": [
       "\\begin{tabular}{r|llll}\n",
       " Feature & Gain & Cover & Frequency\\\\\n",
       "\\hline\n",
       "\t Age                              & 0.26544632                       & 0.32700307                       & 0.22757906                      \\\\\n",
       "\t DistanceFromHome                 & 0.22301070                       & 0.17786409                       & 0.19932608                      \\\\\n",
       "\t PriorYearsOfExperience           & 0.09457971                       & 0.11191857                       & 0.10082945                      \\\\\n",
       "\t AverageTenure                    & 0.03782742                       & 0.06216012                       & 0.06220840                      \\\\\n",
       "\t Education3                       & 0.03614013                       & 0.01336200                       & 0.03421462                      \\\\\n",
       "\t DepartmentResearch \\& Development & 0.02853856                         & 0.01305244                         & 0.02980819                        \\\\\n",
       "\\end{tabular}\n"
      ],
      "text/markdown": [
       "\n",
       "| Feature | Gain | Cover | Frequency |\n",
       "|---|---|---|---|\n",
       "| Age                              | 0.26544632                       | 0.32700307                       | 0.22757906                       |\n",
       "| DistanceFromHome                 | 0.22301070                       | 0.17786409                       | 0.19932608                       |\n",
       "| PriorYearsOfExperience           | 0.09457971                       | 0.11191857                       | 0.10082945                       |\n",
       "| AverageTenure                    | 0.03782742                       | 0.06216012                       | 0.06220840                       |\n",
       "| Education3                       | 0.03614013                       | 0.01336200                       | 0.03421462                       |\n",
       "| DepartmentResearch & Development | 0.02853856                       | 0.01305244                       | 0.02980819                       |\n",
       "\n"
      ],
      "text/plain": [
       "  Feature                          Gain       Cover      Frequency \n",
       "1 Age                              0.26544632 0.32700307 0.22757906\n",
       "2 DistanceFromHome                 0.22301070 0.17786409 0.19932608\n",
       "3 PriorYearsOfExperience           0.09457971 0.11191857 0.10082945\n",
       "4 AverageTenure                    0.03782742 0.06216012 0.06220840\n",
       "5 Education3                       0.03614013 0.01336200 0.03421462\n",
       "6 DepartmentResearch & Development 0.02853856 0.01305244 0.02980819"
      ]
     },
     "metadata": {},
     "output_type": "display_data"
    }
   ],
   "source": [
    "# Extract feature importance\n",
    "importance <- xgb.importance(feature_names = sparse_matrix@Dimnames[[2]], model = bst)\n",
    "head(importance)"
   ]
  },
  {
   "cell_type": "code",
   "execution_count": 85,
   "id": "valued-oliver",
   "metadata": {},
   "outputs": [
    {
     "data": {
      "image/png": "[encoded data removed]",
      "text/plain": [
       "Plot with title \"Top 10 Most Important Features\""
      ]
     },
     "metadata": {},
     "output_type": "display_data"
    }
   ],
   "source": [
    "# Plot most important features\n",
    "xgb.plot.importance(importance_matrix = importance, top_n = 10, main = \"Top 10 Most Important Features\")"
   ]
  },
  {
   "cell_type": "code",
   "execution_count": 86,
   "id": "swedish-billion",
   "metadata": {},
   "outputs": [
    {
     "name": "stdout",
     "output_type": "stream",
     "text": [
      "\n",
      "\tPearson's Chi-squared test\n",
      "\n",
      "data:  data_hr_1$Age and output_vector\n",
      "X-squared = 1823.6, df = 42, p-value < 2.2e-16\n",
      "\n",
      "\n",
      "\tPearson's Chi-squared test\n",
      "\n",
      "data:  data_hr_1$DistanceFromHome and output_vector\n",
      "X-squared = 564.63, df = 28, p-value < 2.2e-16\n",
      "\n"
     ]
    },
    {
     "name": "stderr",
     "output_type": "stream",
     "text": [
      "Warning message in chisq.test(data_hr_1$PriorYearsOfExperience, output_vector):\n",
      "\"Chi-squared approximation may be incorrect\""
     ]
    },
    {
     "name": "stdout",
     "output_type": "stream",
     "text": [
      "\n",
      "\tPearson's Chi-squared test\n",
      "\n",
      "data:  data_hr_1$PriorYearsOfExperience and output_vector\n",
      "X-squared = 211.03, df = 35, p-value < 2.2e-16\n",
      "\n"
     ]
    },
    {
     "name": "stderr",
     "output_type": "stream",
     "text": [
      "Warning message in chisq.test(data_hr_1$AverageTenure, output_vector):\n",
      "\"Chi-squared approximation may be incorrect\""
     ]
    },
    {
     "name": "stdout",
     "output_type": "stream",
     "text": [
      "\n",
      "\tPearson's Chi-squared test\n",
      "\n",
      "data:  data_hr_1$AverageTenure and output_vector\n",
      "X-squared = 565.52, df = 155, p-value < 2.2e-16\n",
      "\n",
      "\n",
      "\tPearson's Chi-squared test\n",
      "\n",
      "data:  data_hr_1$Education and output_vector\n",
      "X-squared = 42.616, df = 4, p-value = 1.243e-08\n",
      "\n",
      "\n",
      "\tPearson's Chi-squared test\n",
      "\n",
      "data:  data_hr_1$Department and output_vector\n",
      "X-squared = 167.9, df = 2, p-value < 2.2e-16\n",
      "\n",
      "\n",
      "\tPearson's Chi-squared test\n",
      "\n",
      "data:  data_hr_1$MaritalStatus and output_vector\n",
      "X-squared = 380.58, df = 2, p-value < 2.2e-16\n",
      "\n"
     ]
    }
   ],
   "source": [
    "# Run a \"Chi-Squared Goodness of Fit Test\" to make sure those highly ranked variables are indeed meaningful for the model\n",
    "# Looking for a p-value of less than 0.05 to confirm the variables are significant\n",
    "# As well as an chi-squared (x-squared) value above 5 to confirm the test's validity\n",
    "c2 <- chisq.test(data_hr_1$Age, output_vector)\n",
    "print(c2)\n",
    "\n",
    "c2 <- chisq.test(data_hr_1$DistanceFromHome, output_vector)\n",
    "print(c2)\n",
    "\n",
    "c2 <- chisq.test(data_hr_1$PriorYearsOfExperience, output_vector)\n",
    "print(c2)\n",
    "\n",
    "c2 <- chisq.test(data_hr_1$AverageTenure, output_vector)\n",
    "print(c2)\n",
    "\n",
    "c2 <- chisq.test(data_hr_1$Education, output_vector)\n",
    "print(c2)\n",
    "\n",
    "c2 <- chisq.test(data_hr_1$Department, output_vector)\n",
    "print(c2)\n",
    "\n",
    "c2 <- chisq.test(data_hr_1$MaritalStatus, output_vector)\n",
    "print(c2)"
   ]
  },
  {
   "cell_type": "markdown",
   "id": "straight-advocacy",
   "metadata": {},
   "source": [
    "### Conclusion"
   ]
  },
  {
   "cell_type": "markdown",
   "id": "mechanical-trustee",
   "metadata": {},
   "source": [
    "> All our p-values are much lower than 0.05, meaning we've found our most significant variables (among those available at hiring time) in predicting employee resignation!\n",
    ">\n",
    "> **The top 6 ranked features by XGBoost are also ranked as significant by the Logistic Regression. Those are: Age, DistanceFromHome, PriorYearsOfExperience,  AverageTenure, Department (Research and Development), and MaritalStatus (Married or Single, but not divorced).**\n",
    ">\n",
    "> Among those, the GLM tells us that the variables correlated with staying are Age (older is more likely to stay), AverageTenure (longer predicts staying), and Department (those hired at the Research and Development department are more likely to stay).\n",
    "> While increases in YearsOfExperience are predictors of greater likelihood of employee resignation, as is any MaritalStatus other than divorced, and a longer DistanceFromHome.\n",
    ">\n",
    "> Additionally, XGBoost also ranks Education (2, 3 and 4) as important, while GLM adds JobRole (Manager, Research Director, Laboratory Technician or Sales Representative) and EmployeeSource (Company Website).\n",
    ">\n",
    "> The insights generated during both exploratory analysis and predictive modeling we can now be shared with IBM's HR department as we team up to reduce employee resignation and turnover!"
   ]
  },
  {
   "cell_type": "markdown",
   "id": "initial-forward",
   "metadata": {},
   "source": [
    "# End\n",
    "\n",
    "<p>Matheus Schmitz</p>\n",
    "<p><a href=\"https://www.linkedin.com/in/matheusschmitz/\">LinkedIn</a></p>\n",
    "<p><a href=\"https://matheus-schmitz.github.io/\">Github Portfolio</a></p>"
   ]
  }
 ],
 "metadata": {
  "kernelspec": {
   "display_name": "R",
   "language": "R",
   "name": "ir"
  },
  "language_info": {
   "codemirror_mode": "r",
   "file_extension": ".r",
   "mimetype": "text/x-r-source",
   "name": "R",
   "pygments_lexer": "r",
   "version": "3.6.1"
  }
 },
 "nbformat": 4,
 "nbformat_minor": 5
}
